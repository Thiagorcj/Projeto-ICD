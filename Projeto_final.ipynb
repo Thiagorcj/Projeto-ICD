{
  "nbformat": 4,
  "nbformat_minor": 0,
  "metadata": {
    "colab": {
      "provenance": []
    },
    "kernelspec": {
      "name": "python3",
      "display_name": "Python 3"
    },
    "language_info": {
      "name": "python"
    }
  },
  "cells": [
    {
      "cell_type": "markdown",
      "source": [
        "# <font color='darkorange'>Análise de Acidentes de Trânsito </font>\n",
        "\n",
        "### Alunos:\n",
        "* Daniele Vitoria Morais Silva\n",
        "* Gisele de Freitas Menezes \n",
        "* Maria Eduarda Bandeira Hora de Vasconcelos\n",
        "* Thiago Rodrigues Cruz Justino "
      ],
      "metadata": {
        "id": "AQVCehy4up8a"
      }
    },
    {
      "cell_type": "markdown",
      "source": [
        "# <font color='darkorange'>1. Introdução</font>\n",
        "\n",
        "De acordo com o Sindicato Nacional da Indústria de Componentes para Veículos Automotores, em 2020, o Brasil passou a contar com 108 milhões de veículos, deste total sendo composto por veículos leves (carros, motocicletas, caminhonete e utilitários) e veículos pesados (ônibus e caminhões). Com o crescimento da frota nacional, houve o aumento de casos de acidentes e consequentemente um problema de saúde pública.\n",
        "\n",
        "Segundo a Organização Mundial da Saúde, o Brasil é o terceiro país com maior número de mortes em decorrência por acidentes no trânsito em todo o mundo. Desta forma, é essencial debater sobre a educação viária, fiscalização e a melhoria das estruturas das vias a fim de trazer um trânsito seguro e eficiente. \n",
        "\n",
        "### Motivação:\n",
        "\n",
        "Falar sobre este tema é importante, pois é atual e está ligado diretamente no cotidiano das pessoas. Tendo em vista os milhares de casos de acidentes de trânsito no Brasil por ano, desenvolvem-se estudos que têm como objetivo entender quais os cenários e condições que levam a ocorrer com tanta frequência.\n",
        "\n",
        "### Objetivos:\n",
        "\n",
        "A partir de um dataset sobre acidentes de trânsito no Brasil com dados de 2021, o objetivo desta análise é entender quais foram os tipos de acidentes, a frequência de acidentes por estados e por dias e horários que ocorrem mais acidentes. "
      ],
      "metadata": {
        "id": "izWJdXMLv7bk"
      }
    },
    {
      "cell_type": "markdown",
      "source": [
        "# <font color='darkorange'>2. Explorando os dados</font>"
      ],
      "metadata": {
        "id": "e4HxKWizyRRZ"
      }
    },
    {
      "cell_type": "code",
      "source": [
        "import pandas as pd\n",
        "import matplotlib.pyplot as plt\n",
        "import seaborn as sns\n",
        "from sklearn.cluster import KMeans"
      ],
      "metadata": {
        "id": "rAyHXukb3L-m"
      },
      "execution_count": 1,
      "outputs": []
    },
    {
      "cell_type": "code",
      "source": [
        "df = pd.read_csv('https://raw.githubusercontent.com/Thiagorcj/Projeto-ICD/main/Acidentes_2021.csv', sep=';', engine='python', encoding='latin-1')\n",
        "df.head()"
      ],
      "metadata": {
        "colab": {
          "base_uri": "https://localhost:8080/",
          "height": 332
        },
        "id": "IJ8Q8PHl3UFp",
        "outputId": "02e5a114-a8ab-4109-c5cf-8439987eed03"
      },
      "execution_count": 8,
      "outputs": [
        {
          "output_type": "execute_result",
          "data": {
            "text/plain": [
              "       id data_inversa   dia_semana   horario  uf     br     km   municipio  \\\n",
              "0  331693   01/01/2021  sexta-feira  00:02:00  SC  101.0  314,9      LAGUNA   \n",
              "1  331694   01/01/2021  sexta-feira  00:15:00  PR  376.0    188    MARIALVA   \n",
              "2  331696   01/01/2021  sexta-feira  00:00:00  SP  116.0  110,6     TAUBATE   \n",
              "3  331699   01/01/2021  sexta-feira  01:20:00  SC  101.0    111  NAVEGANTES   \n",
              "4  331701   01/01/2021  sexta-feira  00:30:00  PE  101.0   45,1    IGARASSU   \n",
              "\n",
              "                             causa_acidente       tipo_acidente  ...  \\\n",
              "0          Ingestão de álcool pelo condutor    Colisão traseira  ...   \n",
              "1                   Velocidade Incompatível  Colisão com objeto  ...   \n",
              "2      Demais falhas mecânicas ou elétricas            Incêndio  ...   \n",
              "3               Manobra de mudança de faixa     Colisão lateral  ...   \n",
              "4  Reação tardia ou ineficiente do condutor    Colisão traseira  ...   \n",
              "\n",
              "  feridos_graves ilesos ignorados feridos veiculos      latitude  \\\n",
              "0              0      2         0       1        2  -28,43029392   \n",
              "1              0      0         0       2        1  -23,46634923   \n",
              "2              0      1         0       0        1  -23,03412614   \n",
              "3              0      1         0       2        2  -26,83955734   \n",
              "4              1      1         0       1        2   -7,86521297   \n",
              "\n",
              "      longitude  regional  delegacia    uop  \n",
              "0  -48,84925073     SR-SC      UOP01  DEL02  \n",
              "1  -51,82808011     SR-PR      UOP01  DEL09  \n",
              "2   -45,5526999     SR-SP      UOP01  DEL06  \n",
              "3  -48,71418074     SR-SC      UOP04  DEL04  \n",
              "4  -34,90715176     SR-PE      UOP02  DEL01  \n",
              "\n",
              "[5 rows x 30 columns]"
            ],
            "text/html": [
              "\n",
              "  <div id=\"df-e9879d2e-323c-4ea5-950c-9eaa87ed5450\">\n",
              "    <div class=\"colab-df-container\">\n",
              "      <div>\n",
              "<style scoped>\n",
              "    .dataframe tbody tr th:only-of-type {\n",
              "        vertical-align: middle;\n",
              "    }\n",
              "\n",
              "    .dataframe tbody tr th {\n",
              "        vertical-align: top;\n",
              "    }\n",
              "\n",
              "    .dataframe thead th {\n",
              "        text-align: right;\n",
              "    }\n",
              "</style>\n",
              "<table border=\"1\" class=\"dataframe\">\n",
              "  <thead>\n",
              "    <tr style=\"text-align: right;\">\n",
              "      <th></th>\n",
              "      <th>id</th>\n",
              "      <th>data_inversa</th>\n",
              "      <th>dia_semana</th>\n",
              "      <th>horario</th>\n",
              "      <th>uf</th>\n",
              "      <th>br</th>\n",
              "      <th>km</th>\n",
              "      <th>municipio</th>\n",
              "      <th>causa_acidente</th>\n",
              "      <th>tipo_acidente</th>\n",
              "      <th>...</th>\n",
              "      <th>feridos_graves</th>\n",
              "      <th>ilesos</th>\n",
              "      <th>ignorados</th>\n",
              "      <th>feridos</th>\n",
              "      <th>veiculos</th>\n",
              "      <th>latitude</th>\n",
              "      <th>longitude</th>\n",
              "      <th>regional</th>\n",
              "      <th>delegacia</th>\n",
              "      <th>uop</th>\n",
              "    </tr>\n",
              "  </thead>\n",
              "  <tbody>\n",
              "    <tr>\n",
              "      <th>0</th>\n",
              "      <td>331693</td>\n",
              "      <td>01/01/2021</td>\n",
              "      <td>sexta-feira</td>\n",
              "      <td>00:02:00</td>\n",
              "      <td>SC</td>\n",
              "      <td>101.0</td>\n",
              "      <td>314,9</td>\n",
              "      <td>LAGUNA</td>\n",
              "      <td>Ingestão de álcool pelo condutor</td>\n",
              "      <td>Colisão traseira</td>\n",
              "      <td>...</td>\n",
              "      <td>0</td>\n",
              "      <td>2</td>\n",
              "      <td>0</td>\n",
              "      <td>1</td>\n",
              "      <td>2</td>\n",
              "      <td>-28,43029392</td>\n",
              "      <td>-48,84925073</td>\n",
              "      <td>SR-SC</td>\n",
              "      <td>UOP01</td>\n",
              "      <td>DEL02</td>\n",
              "    </tr>\n",
              "    <tr>\n",
              "      <th>1</th>\n",
              "      <td>331694</td>\n",
              "      <td>01/01/2021</td>\n",
              "      <td>sexta-feira</td>\n",
              "      <td>00:15:00</td>\n",
              "      <td>PR</td>\n",
              "      <td>376.0</td>\n",
              "      <td>188</td>\n",
              "      <td>MARIALVA</td>\n",
              "      <td>Velocidade Incompatível</td>\n",
              "      <td>Colisão com objeto</td>\n",
              "      <td>...</td>\n",
              "      <td>0</td>\n",
              "      <td>0</td>\n",
              "      <td>0</td>\n",
              "      <td>2</td>\n",
              "      <td>1</td>\n",
              "      <td>-23,46634923</td>\n",
              "      <td>-51,82808011</td>\n",
              "      <td>SR-PR</td>\n",
              "      <td>UOP01</td>\n",
              "      <td>DEL09</td>\n",
              "    </tr>\n",
              "    <tr>\n",
              "      <th>2</th>\n",
              "      <td>331696</td>\n",
              "      <td>01/01/2021</td>\n",
              "      <td>sexta-feira</td>\n",
              "      <td>00:00:00</td>\n",
              "      <td>SP</td>\n",
              "      <td>116.0</td>\n",
              "      <td>110,6</td>\n",
              "      <td>TAUBATE</td>\n",
              "      <td>Demais falhas mecânicas ou elétricas</td>\n",
              "      <td>Incêndio</td>\n",
              "      <td>...</td>\n",
              "      <td>0</td>\n",
              "      <td>1</td>\n",
              "      <td>0</td>\n",
              "      <td>0</td>\n",
              "      <td>1</td>\n",
              "      <td>-23,03412614</td>\n",
              "      <td>-45,5526999</td>\n",
              "      <td>SR-SP</td>\n",
              "      <td>UOP01</td>\n",
              "      <td>DEL06</td>\n",
              "    </tr>\n",
              "    <tr>\n",
              "      <th>3</th>\n",
              "      <td>331699</td>\n",
              "      <td>01/01/2021</td>\n",
              "      <td>sexta-feira</td>\n",
              "      <td>01:20:00</td>\n",
              "      <td>SC</td>\n",
              "      <td>101.0</td>\n",
              "      <td>111</td>\n",
              "      <td>NAVEGANTES</td>\n",
              "      <td>Manobra de mudança de faixa</td>\n",
              "      <td>Colisão lateral</td>\n",
              "      <td>...</td>\n",
              "      <td>0</td>\n",
              "      <td>1</td>\n",
              "      <td>0</td>\n",
              "      <td>2</td>\n",
              "      <td>2</td>\n",
              "      <td>-26,83955734</td>\n",
              "      <td>-48,71418074</td>\n",
              "      <td>SR-SC</td>\n",
              "      <td>UOP04</td>\n",
              "      <td>DEL04</td>\n",
              "    </tr>\n",
              "    <tr>\n",
              "      <th>4</th>\n",
              "      <td>331701</td>\n",
              "      <td>01/01/2021</td>\n",
              "      <td>sexta-feira</td>\n",
              "      <td>00:30:00</td>\n",
              "      <td>PE</td>\n",
              "      <td>101.0</td>\n",
              "      <td>45,1</td>\n",
              "      <td>IGARASSU</td>\n",
              "      <td>Reação tardia ou ineficiente do condutor</td>\n",
              "      <td>Colisão traseira</td>\n",
              "      <td>...</td>\n",
              "      <td>1</td>\n",
              "      <td>1</td>\n",
              "      <td>0</td>\n",
              "      <td>1</td>\n",
              "      <td>2</td>\n",
              "      <td>-7,86521297</td>\n",
              "      <td>-34,90715176</td>\n",
              "      <td>SR-PE</td>\n",
              "      <td>UOP02</td>\n",
              "      <td>DEL01</td>\n",
              "    </tr>\n",
              "  </tbody>\n",
              "</table>\n",
              "<p>5 rows × 30 columns</p>\n",
              "</div>\n",
              "      <button class=\"colab-df-convert\" onclick=\"convertToInteractive('df-e9879d2e-323c-4ea5-950c-9eaa87ed5450')\"\n",
              "              title=\"Convert this dataframe to an interactive table.\"\n",
              "              style=\"display:none;\">\n",
              "        \n",
              "  <svg xmlns=\"http://www.w3.org/2000/svg\" height=\"24px\"viewBox=\"0 0 24 24\"\n",
              "       width=\"24px\">\n",
              "    <path d=\"M0 0h24v24H0V0z\" fill=\"none\"/>\n",
              "    <path d=\"M18.56 5.44l.94 2.06.94-2.06 2.06-.94-2.06-.94-.94-2.06-.94 2.06-2.06.94zm-11 1L8.5 8.5l.94-2.06 2.06-.94-2.06-.94L8.5 2.5l-.94 2.06-2.06.94zm10 10l.94 2.06.94-2.06 2.06-.94-2.06-.94-.94-2.06-.94 2.06-2.06.94z\"/><path d=\"M17.41 7.96l-1.37-1.37c-.4-.4-.92-.59-1.43-.59-.52 0-1.04.2-1.43.59L10.3 9.45l-7.72 7.72c-.78.78-.78 2.05 0 2.83L4 21.41c.39.39.9.59 1.41.59.51 0 1.02-.2 1.41-.59l7.78-7.78 2.81-2.81c.8-.78.8-2.07 0-2.86zM5.41 20L4 18.59l7.72-7.72 1.47 1.35L5.41 20z\"/>\n",
              "  </svg>\n",
              "      </button>\n",
              "      \n",
              "  <style>\n",
              "    .colab-df-container {\n",
              "      display:flex;\n",
              "      flex-wrap:wrap;\n",
              "      gap: 12px;\n",
              "    }\n",
              "\n",
              "    .colab-df-convert {\n",
              "      background-color: #E8F0FE;\n",
              "      border: none;\n",
              "      border-radius: 50%;\n",
              "      cursor: pointer;\n",
              "      display: none;\n",
              "      fill: #1967D2;\n",
              "      height: 32px;\n",
              "      padding: 0 0 0 0;\n",
              "      width: 32px;\n",
              "    }\n",
              "\n",
              "    .colab-df-convert:hover {\n",
              "      background-color: #E2EBFA;\n",
              "      box-shadow: 0px 1px 2px rgba(60, 64, 67, 0.3), 0px 1px 3px 1px rgba(60, 64, 67, 0.15);\n",
              "      fill: #174EA6;\n",
              "    }\n",
              "\n",
              "    [theme=dark] .colab-df-convert {\n",
              "      background-color: #3B4455;\n",
              "      fill: #D2E3FC;\n",
              "    }\n",
              "\n",
              "    [theme=dark] .colab-df-convert:hover {\n",
              "      background-color: #434B5C;\n",
              "      box-shadow: 0px 1px 3px 1px rgba(0, 0, 0, 0.15);\n",
              "      filter: drop-shadow(0px 1px 2px rgba(0, 0, 0, 0.3));\n",
              "      fill: #FFFFFF;\n",
              "    }\n",
              "  </style>\n",
              "\n",
              "      <script>\n",
              "        const buttonEl =\n",
              "          document.querySelector('#df-e9879d2e-323c-4ea5-950c-9eaa87ed5450 button.colab-df-convert');\n",
              "        buttonEl.style.display =\n",
              "          google.colab.kernel.accessAllowed ? 'block' : 'none';\n",
              "\n",
              "        async function convertToInteractive(key) {\n",
              "          const element = document.querySelector('#df-e9879d2e-323c-4ea5-950c-9eaa87ed5450');\n",
              "          const dataTable =\n",
              "            await google.colab.kernel.invokeFunction('convertToInteractive',\n",
              "                                                     [key], {});\n",
              "          if (!dataTable) return;\n",
              "\n",
              "          const docLinkHtml = 'Like what you see? Visit the ' +\n",
              "            '<a target=\"_blank\" href=https://colab.research.google.com/notebooks/data_table.ipynb>data table notebook</a>'\n",
              "            + ' to learn more about interactive tables.';\n",
              "          element.innerHTML = '';\n",
              "          dataTable['output_type'] = 'display_data';\n",
              "          await google.colab.output.renderOutput(dataTable, element);\n",
              "          const docLink = document.createElement('div');\n",
              "          docLink.innerHTML = docLinkHtml;\n",
              "          element.appendChild(docLink);\n",
              "        }\n",
              "      </script>\n",
              "    </div>\n",
              "  </div>\n",
              "  "
            ]
          },
          "metadata": {},
          "execution_count": 8
        }
      ]
    },
    {
      "cell_type": "markdown",
      "source": [
        "Descrição dos dados das colunas:\n",
        " - id : Número de identificador do acidente;\n",
        " - data_inversa : Data em que ocorreu o acidente;\n",
        " - dia_semana : Dia da semana;\n",
        " - horario : Horário;\n",
        " - uf : Estado;\n",
        " - km : Quilômetro em que ocorreu o acidente;\n",
        " - br : número da rodovia federal em ocorreu o acidente;\n",
        " - municipio : Município em que ocorreu o acidente;\n",
        " - feridos_graves : Número de feridos gravemente;\n",
        " - causa_acidente : Causas dos acidentes;\n",
        " - tipo_acidente : Tipo de acidente;\n",
        " - classificacao_acidente : Indica se houve ou não vítimas;\n",
        " - fase_dia : Fases do dia que ocorreu o acidente;\n",
        " - sentido_via : Sentido da via;\n",
        " - condicao_metereologica : Condição metereológica;\n",
        " - tipo_pista : Tipo de pista;\n",
        " - tracado_via : Traçado da via;\n",
        " - uso_solo : Indica se ouve ou não uso do solo;\n",
        " - ilesos : Número de pessoas ilesas;\n",
        " - ignorados : Indica acidentes que foram ignorados;\n",
        " - feridos : Número de feridos;\n",
        " - veiculos : Número de veículos envolvidos no acidente;\n",
        " - latitude : Latitudes que ocorreram acidente;\n",
        " - longitude : Longitudes que ocorreram os acidentes;\n",
        " - regional :  Indica as superintendências regiões que ocorreram os acidentes;\n",
        " - delegacia : Delegacias que foram registrados o acidentes;\n",
        " - uol : Procedimento de operação da unidade;"
      ],
      "metadata": {
        "id": "DuSuEDpu_lVg"
      }
    },
    {
      "cell_type": "markdown",
      "source": [
        "Analisando o tipo dos dados disponíveis por meio da função dtypes:"
      ],
      "metadata": {
        "id": "n5q5GjYotWnV"
      }
    },
    {
      "cell_type": "code",
      "source": [
        "df.dtypes"
      ],
      "metadata": {
        "colab": {
          "base_uri": "https://localhost:8080/"
        },
        "id": "EwOsFKAgtXU7",
        "outputId": "3bb083c6-3458-4413-a105-48b32223bec1"
      },
      "execution_count": null,
      "outputs": [
        {
          "output_type": "execute_result",
          "data": {
            "text/plain": [
              "id                          int64\n",
              "data_inversa               object\n",
              "dia_semana                 object\n",
              "horario                    object\n",
              "uf                         object\n",
              "br                        float64\n",
              "km                         object\n",
              "municipio                  object\n",
              "causa_acidente             object\n",
              "tipo_acidente              object\n",
              "classificacao_acidente     object\n",
              "fase_dia                   object\n",
              "sentido_via                object\n",
              "condicao_metereologica     object\n",
              "tipo_pista                 object\n",
              "tracado_via                object\n",
              "uso_solo                   object\n",
              "pessoas                     int64\n",
              "mortos                      int64\n",
              "feridos_leves               int64\n",
              "feridos_graves              int64\n",
              "ilesos                      int64\n",
              "ignorados                   int64\n",
              "feridos                     int64\n",
              "veiculos                    int64\n",
              "latitude                   object\n",
              "longitude                  object\n",
              "regional                   object\n",
              "delegacia                  object\n",
              "uop                        object\n",
              "dtype: object"
            ]
          },
          "metadata": {},
          "execution_count": 7
        }
      ]
    },
    {
      "cell_type": "markdown",
      "source": [
        "Analisando os dados númericos do dataset:"
      ],
      "metadata": {
        "id": "iMeg8wWYuT5_"
      }
    },
    {
      "cell_type": "code",
      "source": [
        "\n",
        "#Criou-se a função modas para que os resultados fossem padronizados\n",
        "def modas():\n",
        "  lista2 = ['pessoas','mortos','feridos_leves','feridos_graves','ilesos','feridos','veiculos']\n",
        "  for i in lista2:\n",
        "    s = df[i].mode()\n",
        "    espaços = ' '*(18-len(i))\n",
        "    print(f'{i}:{espaços}{s.to_string(index=False)}')\n",
        "\n",
        "#Médias\n",
        "print(\"~\" * 22)\n",
        "print(\"\\n\",\"Médias\".center(20,' '),\"\\n\") \n",
        "display(df[['pessoas','mortos','feridos_leves','feridos_graves','ilesos','feridos','veiculos']].mean().round(1))\n",
        "print(\"~\" * 22)\n",
        "\n",
        "#Medianas\n",
        "print(\"\\n\",\"Medianas\".center(20,' '),\"\\n\") \n",
        "display(df[['pessoas','mortos','feridos_leves','feridos_graves','ilesos','feridos','veiculos']].median())\n",
        "print(\"~\" * 22)\n",
        "\n",
        "#Variâncias\n",
        "print(\"\\n\",\"Variâncias\".center(20,' '),\"\\n\") \n",
        "display(df[['pessoas','mortos','feridos_leves','feridos_graves','ilesos','feridos','veiculos']].var().round(1))\n",
        "print(\"~\" * 22)\n",
        "\n",
        "#Modas\n",
        "print(\"\\n\",\"Modas\".center(20,' '),\"\\n\") \n",
        "modas()\n",
        "print(\"~\" * 22)\n",
        "\n",
        "#Desvio padrão\n",
        "print(\"\\n\",\"Desvio padrão\".center(20,' '),\"\\n\")\n",
        "display(df[['pessoas','mortos','feridos_leves','feridos_graves','ilesos','feridos','veiculos']].std().round(1))\n",
        "print(\"~\" * 22)"
      ],
      "metadata": {
        "colab": {
          "base_uri": "https://localhost:8080/",
          "height": 1000
        },
        "id": "aYPWCt97tN3X",
        "outputId": "9f79902f-0b9e-4347-cb79-029c03f2f938"
      },
      "execution_count": 19,
      "outputs": [
        {
          "output_type": "stream",
          "name": "stdout",
          "text": [
            "~~~~~~~~~~~~~~~~~~~~~~\n",
            "\n",
            "        Médias        \n",
            "\n"
          ]
        },
        {
          "output_type": "display_data",
          "data": {
            "text/plain": [
              "pessoas           2.3\n",
              "mortos            0.1\n",
              "feridos_leves     0.8\n",
              "feridos_graves    0.3\n",
              "ilesos            1.0\n",
              "feridos           1.1\n",
              "veiculos          1.6\n",
              "dtype: float64"
            ]
          },
          "metadata": {}
        },
        {
          "output_type": "stream",
          "name": "stdout",
          "text": [
            "~~~~~~~~~~~~~~~~~~~~~~\n",
            "\n",
            "       Medianas       \n",
            "\n"
          ]
        },
        {
          "output_type": "display_data",
          "data": {
            "text/plain": [
              "pessoas           2.0\n",
              "mortos            0.0\n",
              "feridos_leves     1.0\n",
              "feridos_graves    0.0\n",
              "ilesos            1.0\n",
              "feridos           1.0\n",
              "veiculos          2.0\n",
              "dtype: float64"
            ]
          },
          "metadata": {}
        },
        {
          "output_type": "stream",
          "name": "stdout",
          "text": [
            "~~~~~~~~~~~~~~~~~~~~~~\n",
            "\n",
            "      Variâncias      \n",
            "\n"
          ]
        },
        {
          "output_type": "display_data",
          "data": {
            "text/plain": [
              "pessoas           2.6\n",
              "mortos            0.1\n",
              "feridos_leves     0.9\n",
              "feridos_graves    0.3\n",
              "ilesos            1.7\n",
              "feridos           1.0\n",
              "veiculos          0.5\n",
              "dtype: float64"
            ]
          },
          "metadata": {}
        },
        {
          "output_type": "stream",
          "name": "stdout",
          "text": [
            "~~~~~~~~~~~~~~~~~~~~~~\n",
            "\n",
            "        Modas         \n",
            "\n",
            "pessoas:           2\n",
            "mortos:            0\n",
            "feridos_leves:     1\n",
            "feridos_graves:    0\n",
            "ilesos:            1\n",
            "feridos:           1\n",
            "veiculos:          2\n",
            "~~~~~~~~~~~~~~~~~~~~~~\n",
            "\n",
            "    Desvio padrão     \n",
            "\n"
          ]
        },
        {
          "output_type": "display_data",
          "data": {
            "text/plain": [
              "pessoas           1.6\n",
              "mortos            0.3\n",
              "feridos_leves     0.9\n",
              "feridos_graves    0.6\n",
              "ilesos            1.3\n",
              "feridos           1.0\n",
              "veiculos          0.7\n",
              "dtype: float64"
            ]
          },
          "metadata": {}
        },
        {
          "output_type": "stream",
          "name": "stdout",
          "text": [
            "~~~~~~~~~~~~~~~~~~~~~~\n"
          ]
        }
      ]
    },
    {
      "cell_type": "markdown",
      "source": [
        "# <font color='darkorange'>3. Limpeza de dados</font>"
      ],
      "metadata": {
        "id": "JLRhSzv3zJwf"
      }
    },
    {
      "cell_type": "markdown",
      "source": [
        "Foi realizada a abreviação dos tipos de acidentes, a fim tornar possível a visualização dos dados no gráfico. Segue abaixo parte do código em que foi feita tal alteração:"
      ],
      "metadata": {
        "id": "n9kNaRttbw1v"
      }
    },
    {
      "cell_type": "code",
      "source": [
        "tipos_acidentes = ['Colisão Tras.',' Saída de jeito carr.','Colisão Trans.','Tombamento','Colis. Lat. Sent. igual','Colis. Frontal','Atropel. de ped.','Queda de ocup. veic.','Capotamento','Colis. Lat. Sent. Oposto',\n",
        "                  'Colis. Lat','Incêndio','Engavetamento','Atrop. de animal','Eventos atípicos', 'Derram. de carga','outro']"
      ],
      "metadata": {
        "id": "tZTvVvA7cThy"
      },
      "execution_count": null,
      "outputs": []
    },
    {
      "cell_type": "code",
      "source": [
        "df.duplicated().value_counts()"
      ],
      "metadata": {
        "colab": {
          "base_uri": "https://localhost:8080/"
        },
        "id": "Yxk4hmSDxMuR",
        "outputId": "5553afb0-320f-4ccc-829e-6f68ec488c46"
      },
      "execution_count": null,
      "outputs": [
        {
          "output_type": "execute_result",
          "data": {
            "text/plain": [
              "False    30901\n",
              "dtype: int64"
            ]
          },
          "metadata": {},
          "execution_count": 7
        }
      ]
    },
    {
      "cell_type": "markdown",
      "source": [
        "Verifica-se que não há nenhum dado duplicado."
      ],
      "metadata": {
        "id": "hZCrWE6hxTmZ"
      }
    },
    {
      "cell_type": "code",
      "source": [
        "df.isnull().sum()"
      ],
      "metadata": {
        "colab": {
          "base_uri": "https://localhost:8080/"
        },
        "id": "T9X_K1qqu9aB",
        "outputId": "e88db248-b805-49ff-a1ca-7bf592c3fd39"
      },
      "execution_count": null,
      "outputs": [
        {
          "output_type": "execute_result",
          "data": {
            "text/plain": [
              "id                         0\n",
              "data_inversa               0\n",
              "dia_semana                 0\n",
              "horario                    0\n",
              "uf                         0\n",
              "br                        84\n",
              "km                        84\n",
              "municipio                  0\n",
              "causa_acidente             0\n",
              "tipo_acidente              0\n",
              "classificacao_acidente     0\n",
              "fase_dia                   0\n",
              "sentido_via                0\n",
              "condicao_metereologica     0\n",
              "tipo_pista                 0\n",
              "tracado_via                0\n",
              "uso_solo                   0\n",
              "pessoas                    0\n",
              "mortos                     0\n",
              "feridos_leves              0\n",
              "feridos_graves             0\n",
              "ilesos                     0\n",
              "ignorados                  0\n",
              "feridos                    0\n",
              "veiculos                   0\n",
              "latitude                   0\n",
              "longitude                  0\n",
              "regional                   0\n",
              "delegacia                  0\n",
              "uop                        0\n",
              "dtype: int64"
            ]
          },
          "metadata": {},
          "execution_count": 6
        }
      ]
    },
    {
      "cell_type": "markdown",
      "source": [
        "Como a perda de informações é muito pequena com relação ao dataset, opta-se por retirar as linhas em que existe valores nulos:"
      ],
      "metadata": {
        "id": "sx3XHigfa27J"
      }
    },
    {
      "cell_type": "code",
      "source": [
        "df.dropna()"
      ],
      "metadata": {
        "colab": {
          "base_uri": "https://localhost:8080/",
          "height": 711
        },
        "id": "HbcJEdL1aoS-",
        "outputId": "7ff08dec-7319-41e5-defd-0c18f0091ce8"
      },
      "execution_count": 9,
      "outputs": [
        {
          "output_type": "execute_result",
          "data": {
            "text/plain": [
              "           id data_inversa     dia_semana   horario  uf     br     km  \\\n",
              "0      331693   01/01/2021    sexta-feira  00:02:00  SC  101.0  314,9   \n",
              "1      331694   01/01/2021    sexta-feira  00:15:00  PR  376.0    188   \n",
              "2      331696   01/01/2021    sexta-feira  00:00:00  SP  116.0  110,6   \n",
              "3      331699   01/01/2021    sexta-feira  01:20:00  SC  101.0    111   \n",
              "4      331701   01/01/2021    sexta-feira  00:30:00  PE  101.0   45,1   \n",
              "...       ...          ...            ...       ...  ..    ...    ...   \n",
              "30896  373974   16/06/2021   quarta-feira  13:15:00  BA  116.0    466   \n",
              "30897  374024   28/06/2021  segunda-feira  10:50:00  PR  277.0    576   \n",
              "30898  374224   13/06/2021        domingo  02:50:00  SP  116.0  102,7   \n",
              "30899  374239   02/06/2021   quarta-feira  08:45:00  RN  101.0     85   \n",
              "30900  374253   01/01/2021    sexta-feira  17:40:00  RN  101.0   78,4   \n",
              "\n",
              "             municipio                                     causa_acidente  \\\n",
              "0               LAGUNA                   Ingestão de álcool pelo condutor   \n",
              "1             MARIALVA                            Velocidade Incompatível   \n",
              "2              TAUBATE               Demais falhas mecânicas ou elétricas   \n",
              "3           NAVEGANTES                        Manobra de mudança de faixa   \n",
              "4             IGARASSU           Reação tardia ou ineficiente do condutor   \n",
              "...                ...                                                ...   \n",
              "30896    SANTO ESTEVAO  Condutor deixou de manter distância do veículo...   \n",
              "30897         CASCAVEL                            Velocidade Incompatível   \n",
              "30898  PINDAMONHANGABA           Reação tardia ou ineficiente do condutor   \n",
              "30899            NATAL                            Velocidade Incompatível   \n",
              "30900            NATAL                        Manobra de mudança de faixa   \n",
              "\n",
              "            tipo_acidente  ... feridos_graves ilesos ignorados feridos  \\\n",
              "0        Colisão traseira  ...              0      2         0       1   \n",
              "1      Colisão com objeto  ...              0      0         0       2   \n",
              "2                Incêndio  ...              0      1         0       0   \n",
              "3         Colisão lateral  ...              0      1         0       2   \n",
              "4        Colisão traseira  ...              1      1         0       1   \n",
              "...                   ...  ...            ...    ...       ...     ...   \n",
              "30896    Colisão traseira  ...              0      0         1       1   \n",
              "30897       Engavetamento  ...              0      6         0       2   \n",
              "30898    Colisão traseira  ...              0      0         1       1   \n",
              "30899    Colisão traseira  ...              1      1         0       1   \n",
              "30900         Capotamento  ...              1      0         0       1   \n",
              "\n",
              "      veiculos      latitude     longitude  regional  delegacia    uop  \n",
              "0            2  -28,43029392  -48,84925073     SR-SC      UOP01  DEL02  \n",
              "1            1  -23,46634923  -51,82808011     SR-PR      UOP01  DEL09  \n",
              "2            1  -23,03412614   -45,5526999     SR-SP      UOP01  DEL06  \n",
              "3            2  -26,83955734  -48,71418074     SR-SC      UOP04  DEL04  \n",
              "4            2   -7,86521297  -34,90715176     SR-PE      UOP02  DEL01  \n",
              "...        ...           ...           ...       ...        ...    ...  \n",
              "30896        2  -12,45221025  -39,25402888     SR-BA      UOP01  DEL02  \n",
              "30897        5  -24,98692731  -53,33030208     SR-PR      UOP01  DEL04  \n",
              "30898        2  -22,99497994  -45,48951403     SR-SP      UOP01  DEL08  \n",
              "30899        2     -5,777664     -35,24937     SR-RN      UOP01  DEL02  \n",
              "30900        1   -5,74071896  -35,29021064     SR-RN      UOP01  DEL02  \n",
              "\n",
              "[30817 rows x 30 columns]"
            ],
            "text/html": [
              "\n",
              "  <div id=\"df-2d2b9e1b-ed07-48d8-9fc5-5a62ab09c27a\">\n",
              "    <div class=\"colab-df-container\">\n",
              "      <div>\n",
              "<style scoped>\n",
              "    .dataframe tbody tr th:only-of-type {\n",
              "        vertical-align: middle;\n",
              "    }\n",
              "\n",
              "    .dataframe tbody tr th {\n",
              "        vertical-align: top;\n",
              "    }\n",
              "\n",
              "    .dataframe thead th {\n",
              "        text-align: right;\n",
              "    }\n",
              "</style>\n",
              "<table border=\"1\" class=\"dataframe\">\n",
              "  <thead>\n",
              "    <tr style=\"text-align: right;\">\n",
              "      <th></th>\n",
              "      <th>id</th>\n",
              "      <th>data_inversa</th>\n",
              "      <th>dia_semana</th>\n",
              "      <th>horario</th>\n",
              "      <th>uf</th>\n",
              "      <th>br</th>\n",
              "      <th>km</th>\n",
              "      <th>municipio</th>\n",
              "      <th>causa_acidente</th>\n",
              "      <th>tipo_acidente</th>\n",
              "      <th>...</th>\n",
              "      <th>feridos_graves</th>\n",
              "      <th>ilesos</th>\n",
              "      <th>ignorados</th>\n",
              "      <th>feridos</th>\n",
              "      <th>veiculos</th>\n",
              "      <th>latitude</th>\n",
              "      <th>longitude</th>\n",
              "      <th>regional</th>\n",
              "      <th>delegacia</th>\n",
              "      <th>uop</th>\n",
              "    </tr>\n",
              "  </thead>\n",
              "  <tbody>\n",
              "    <tr>\n",
              "      <th>0</th>\n",
              "      <td>331693</td>\n",
              "      <td>01/01/2021</td>\n",
              "      <td>sexta-feira</td>\n",
              "      <td>00:02:00</td>\n",
              "      <td>SC</td>\n",
              "      <td>101.0</td>\n",
              "      <td>314,9</td>\n",
              "      <td>LAGUNA</td>\n",
              "      <td>Ingestão de álcool pelo condutor</td>\n",
              "      <td>Colisão traseira</td>\n",
              "      <td>...</td>\n",
              "      <td>0</td>\n",
              "      <td>2</td>\n",
              "      <td>0</td>\n",
              "      <td>1</td>\n",
              "      <td>2</td>\n",
              "      <td>-28,43029392</td>\n",
              "      <td>-48,84925073</td>\n",
              "      <td>SR-SC</td>\n",
              "      <td>UOP01</td>\n",
              "      <td>DEL02</td>\n",
              "    </tr>\n",
              "    <tr>\n",
              "      <th>1</th>\n",
              "      <td>331694</td>\n",
              "      <td>01/01/2021</td>\n",
              "      <td>sexta-feira</td>\n",
              "      <td>00:15:00</td>\n",
              "      <td>PR</td>\n",
              "      <td>376.0</td>\n",
              "      <td>188</td>\n",
              "      <td>MARIALVA</td>\n",
              "      <td>Velocidade Incompatível</td>\n",
              "      <td>Colisão com objeto</td>\n",
              "      <td>...</td>\n",
              "      <td>0</td>\n",
              "      <td>0</td>\n",
              "      <td>0</td>\n",
              "      <td>2</td>\n",
              "      <td>1</td>\n",
              "      <td>-23,46634923</td>\n",
              "      <td>-51,82808011</td>\n",
              "      <td>SR-PR</td>\n",
              "      <td>UOP01</td>\n",
              "      <td>DEL09</td>\n",
              "    </tr>\n",
              "    <tr>\n",
              "      <th>2</th>\n",
              "      <td>331696</td>\n",
              "      <td>01/01/2021</td>\n",
              "      <td>sexta-feira</td>\n",
              "      <td>00:00:00</td>\n",
              "      <td>SP</td>\n",
              "      <td>116.0</td>\n",
              "      <td>110,6</td>\n",
              "      <td>TAUBATE</td>\n",
              "      <td>Demais falhas mecânicas ou elétricas</td>\n",
              "      <td>Incêndio</td>\n",
              "      <td>...</td>\n",
              "      <td>0</td>\n",
              "      <td>1</td>\n",
              "      <td>0</td>\n",
              "      <td>0</td>\n",
              "      <td>1</td>\n",
              "      <td>-23,03412614</td>\n",
              "      <td>-45,5526999</td>\n",
              "      <td>SR-SP</td>\n",
              "      <td>UOP01</td>\n",
              "      <td>DEL06</td>\n",
              "    </tr>\n",
              "    <tr>\n",
              "      <th>3</th>\n",
              "      <td>331699</td>\n",
              "      <td>01/01/2021</td>\n",
              "      <td>sexta-feira</td>\n",
              "      <td>01:20:00</td>\n",
              "      <td>SC</td>\n",
              "      <td>101.0</td>\n",
              "      <td>111</td>\n",
              "      <td>NAVEGANTES</td>\n",
              "      <td>Manobra de mudança de faixa</td>\n",
              "      <td>Colisão lateral</td>\n",
              "      <td>...</td>\n",
              "      <td>0</td>\n",
              "      <td>1</td>\n",
              "      <td>0</td>\n",
              "      <td>2</td>\n",
              "      <td>2</td>\n",
              "      <td>-26,83955734</td>\n",
              "      <td>-48,71418074</td>\n",
              "      <td>SR-SC</td>\n",
              "      <td>UOP04</td>\n",
              "      <td>DEL04</td>\n",
              "    </tr>\n",
              "    <tr>\n",
              "      <th>4</th>\n",
              "      <td>331701</td>\n",
              "      <td>01/01/2021</td>\n",
              "      <td>sexta-feira</td>\n",
              "      <td>00:30:00</td>\n",
              "      <td>PE</td>\n",
              "      <td>101.0</td>\n",
              "      <td>45,1</td>\n",
              "      <td>IGARASSU</td>\n",
              "      <td>Reação tardia ou ineficiente do condutor</td>\n",
              "      <td>Colisão traseira</td>\n",
              "      <td>...</td>\n",
              "      <td>1</td>\n",
              "      <td>1</td>\n",
              "      <td>0</td>\n",
              "      <td>1</td>\n",
              "      <td>2</td>\n",
              "      <td>-7,86521297</td>\n",
              "      <td>-34,90715176</td>\n",
              "      <td>SR-PE</td>\n",
              "      <td>UOP02</td>\n",
              "      <td>DEL01</td>\n",
              "    </tr>\n",
              "    <tr>\n",
              "      <th>...</th>\n",
              "      <td>...</td>\n",
              "      <td>...</td>\n",
              "      <td>...</td>\n",
              "      <td>...</td>\n",
              "      <td>...</td>\n",
              "      <td>...</td>\n",
              "      <td>...</td>\n",
              "      <td>...</td>\n",
              "      <td>...</td>\n",
              "      <td>...</td>\n",
              "      <td>...</td>\n",
              "      <td>...</td>\n",
              "      <td>...</td>\n",
              "      <td>...</td>\n",
              "      <td>...</td>\n",
              "      <td>...</td>\n",
              "      <td>...</td>\n",
              "      <td>...</td>\n",
              "      <td>...</td>\n",
              "      <td>...</td>\n",
              "      <td>...</td>\n",
              "    </tr>\n",
              "    <tr>\n",
              "      <th>30896</th>\n",
              "      <td>373974</td>\n",
              "      <td>16/06/2021</td>\n",
              "      <td>quarta-feira</td>\n",
              "      <td>13:15:00</td>\n",
              "      <td>BA</td>\n",
              "      <td>116.0</td>\n",
              "      <td>466</td>\n",
              "      <td>SANTO ESTEVAO</td>\n",
              "      <td>Condutor deixou de manter distância do veículo...</td>\n",
              "      <td>Colisão traseira</td>\n",
              "      <td>...</td>\n",
              "      <td>0</td>\n",
              "      <td>0</td>\n",
              "      <td>1</td>\n",
              "      <td>1</td>\n",
              "      <td>2</td>\n",
              "      <td>-12,45221025</td>\n",
              "      <td>-39,25402888</td>\n",
              "      <td>SR-BA</td>\n",
              "      <td>UOP01</td>\n",
              "      <td>DEL02</td>\n",
              "    </tr>\n",
              "    <tr>\n",
              "      <th>30897</th>\n",
              "      <td>374024</td>\n",
              "      <td>28/06/2021</td>\n",
              "      <td>segunda-feira</td>\n",
              "      <td>10:50:00</td>\n",
              "      <td>PR</td>\n",
              "      <td>277.0</td>\n",
              "      <td>576</td>\n",
              "      <td>CASCAVEL</td>\n",
              "      <td>Velocidade Incompatível</td>\n",
              "      <td>Engavetamento</td>\n",
              "      <td>...</td>\n",
              "      <td>0</td>\n",
              "      <td>6</td>\n",
              "      <td>0</td>\n",
              "      <td>2</td>\n",
              "      <td>5</td>\n",
              "      <td>-24,98692731</td>\n",
              "      <td>-53,33030208</td>\n",
              "      <td>SR-PR</td>\n",
              "      <td>UOP01</td>\n",
              "      <td>DEL04</td>\n",
              "    </tr>\n",
              "    <tr>\n",
              "      <th>30898</th>\n",
              "      <td>374224</td>\n",
              "      <td>13/06/2021</td>\n",
              "      <td>domingo</td>\n",
              "      <td>02:50:00</td>\n",
              "      <td>SP</td>\n",
              "      <td>116.0</td>\n",
              "      <td>102,7</td>\n",
              "      <td>PINDAMONHANGABA</td>\n",
              "      <td>Reação tardia ou ineficiente do condutor</td>\n",
              "      <td>Colisão traseira</td>\n",
              "      <td>...</td>\n",
              "      <td>0</td>\n",
              "      <td>0</td>\n",
              "      <td>1</td>\n",
              "      <td>1</td>\n",
              "      <td>2</td>\n",
              "      <td>-22,99497994</td>\n",
              "      <td>-45,48951403</td>\n",
              "      <td>SR-SP</td>\n",
              "      <td>UOP01</td>\n",
              "      <td>DEL08</td>\n",
              "    </tr>\n",
              "    <tr>\n",
              "      <th>30899</th>\n",
              "      <td>374239</td>\n",
              "      <td>02/06/2021</td>\n",
              "      <td>quarta-feira</td>\n",
              "      <td>08:45:00</td>\n",
              "      <td>RN</td>\n",
              "      <td>101.0</td>\n",
              "      <td>85</td>\n",
              "      <td>NATAL</td>\n",
              "      <td>Velocidade Incompatível</td>\n",
              "      <td>Colisão traseira</td>\n",
              "      <td>...</td>\n",
              "      <td>1</td>\n",
              "      <td>1</td>\n",
              "      <td>0</td>\n",
              "      <td>1</td>\n",
              "      <td>2</td>\n",
              "      <td>-5,777664</td>\n",
              "      <td>-35,24937</td>\n",
              "      <td>SR-RN</td>\n",
              "      <td>UOP01</td>\n",
              "      <td>DEL02</td>\n",
              "    </tr>\n",
              "    <tr>\n",
              "      <th>30900</th>\n",
              "      <td>374253</td>\n",
              "      <td>01/01/2021</td>\n",
              "      <td>sexta-feira</td>\n",
              "      <td>17:40:00</td>\n",
              "      <td>RN</td>\n",
              "      <td>101.0</td>\n",
              "      <td>78,4</td>\n",
              "      <td>NATAL</td>\n",
              "      <td>Manobra de mudança de faixa</td>\n",
              "      <td>Capotamento</td>\n",
              "      <td>...</td>\n",
              "      <td>1</td>\n",
              "      <td>0</td>\n",
              "      <td>0</td>\n",
              "      <td>1</td>\n",
              "      <td>1</td>\n",
              "      <td>-5,74071896</td>\n",
              "      <td>-35,29021064</td>\n",
              "      <td>SR-RN</td>\n",
              "      <td>UOP01</td>\n",
              "      <td>DEL02</td>\n",
              "    </tr>\n",
              "  </tbody>\n",
              "</table>\n",
              "<p>30817 rows × 30 columns</p>\n",
              "</div>\n",
              "      <button class=\"colab-df-convert\" onclick=\"convertToInteractive('df-2d2b9e1b-ed07-48d8-9fc5-5a62ab09c27a')\"\n",
              "              title=\"Convert this dataframe to an interactive table.\"\n",
              "              style=\"display:none;\">\n",
              "        \n",
              "  <svg xmlns=\"http://www.w3.org/2000/svg\" height=\"24px\"viewBox=\"0 0 24 24\"\n",
              "       width=\"24px\">\n",
              "    <path d=\"M0 0h24v24H0V0z\" fill=\"none\"/>\n",
              "    <path d=\"M18.56 5.44l.94 2.06.94-2.06 2.06-.94-2.06-.94-.94-2.06-.94 2.06-2.06.94zm-11 1L8.5 8.5l.94-2.06 2.06-.94-2.06-.94L8.5 2.5l-.94 2.06-2.06.94zm10 10l.94 2.06.94-2.06 2.06-.94-2.06-.94-.94-2.06-.94 2.06-2.06.94z\"/><path d=\"M17.41 7.96l-1.37-1.37c-.4-.4-.92-.59-1.43-.59-.52 0-1.04.2-1.43.59L10.3 9.45l-7.72 7.72c-.78.78-.78 2.05 0 2.83L4 21.41c.39.39.9.59 1.41.59.51 0 1.02-.2 1.41-.59l7.78-7.78 2.81-2.81c.8-.78.8-2.07 0-2.86zM5.41 20L4 18.59l7.72-7.72 1.47 1.35L5.41 20z\"/>\n",
              "  </svg>\n",
              "      </button>\n",
              "      \n",
              "  <style>\n",
              "    .colab-df-container {\n",
              "      display:flex;\n",
              "      flex-wrap:wrap;\n",
              "      gap: 12px;\n",
              "    }\n",
              "\n",
              "    .colab-df-convert {\n",
              "      background-color: #E8F0FE;\n",
              "      border: none;\n",
              "      border-radius: 50%;\n",
              "      cursor: pointer;\n",
              "      display: none;\n",
              "      fill: #1967D2;\n",
              "      height: 32px;\n",
              "      padding: 0 0 0 0;\n",
              "      width: 32px;\n",
              "    }\n",
              "\n",
              "    .colab-df-convert:hover {\n",
              "      background-color: #E2EBFA;\n",
              "      box-shadow: 0px 1px 2px rgba(60, 64, 67, 0.3), 0px 1px 3px 1px rgba(60, 64, 67, 0.15);\n",
              "      fill: #174EA6;\n",
              "    }\n",
              "\n",
              "    [theme=dark] .colab-df-convert {\n",
              "      background-color: #3B4455;\n",
              "      fill: #D2E3FC;\n",
              "    }\n",
              "\n",
              "    [theme=dark] .colab-df-convert:hover {\n",
              "      background-color: #434B5C;\n",
              "      box-shadow: 0px 1px 3px 1px rgba(0, 0, 0, 0.15);\n",
              "      filter: drop-shadow(0px 1px 2px rgba(0, 0, 0, 0.3));\n",
              "      fill: #FFFFFF;\n",
              "    }\n",
              "  </style>\n",
              "\n",
              "      <script>\n",
              "        const buttonEl =\n",
              "          document.querySelector('#df-2d2b9e1b-ed07-48d8-9fc5-5a62ab09c27a button.colab-df-convert');\n",
              "        buttonEl.style.display =\n",
              "          google.colab.kernel.accessAllowed ? 'block' : 'none';\n",
              "\n",
              "        async function convertToInteractive(key) {\n",
              "          const element = document.querySelector('#df-2d2b9e1b-ed07-48d8-9fc5-5a62ab09c27a');\n",
              "          const dataTable =\n",
              "            await google.colab.kernel.invokeFunction('convertToInteractive',\n",
              "                                                     [key], {});\n",
              "          if (!dataTable) return;\n",
              "\n",
              "          const docLinkHtml = 'Like what you see? Visit the ' +\n",
              "            '<a target=\"_blank\" href=https://colab.research.google.com/notebooks/data_table.ipynb>data table notebook</a>'\n",
              "            + ' to learn more about interactive tables.';\n",
              "          element.innerHTML = '';\n",
              "          dataTable['output_type'] = 'display_data';\n",
              "          await google.colab.output.renderOutput(dataTable, element);\n",
              "          const docLink = document.createElement('div');\n",
              "          docLink.innerHTML = docLinkHtml;\n",
              "          element.appendChild(docLink);\n",
              "        }\n",
              "      </script>\n",
              "    </div>\n",
              "  </div>\n",
              "  "
            ]
          },
          "metadata": {},
          "execution_count": 9
        }
      ]
    },
    {
      "cell_type": "markdown",
      "source": [
        "Para os horários foi necessário uma aproximação para entender melhor em que intervalos de tempo ocorrem mais acidentes"
      ],
      "metadata": {
        "id": "3TOQO08paGuY"
      }
    },
    {
      "cell_type": "code",
      "source": [
        "#Função para aproximar os horários:\n",
        "def horario(x):\n",
        "  x,y,z = x.split(':')\n",
        "  x,y,z = int(x),int(y),int(z)\n",
        "  if z>30: \n",
        "    y +=1\n",
        "    z = 0\n",
        "  elif z<30: z = 0\n",
        "  if y>30: \n",
        "    x+=1 \n",
        "    y = 0\n",
        "  elif y<0: y=0\n",
        "  if x == 24: x = 0\n",
        "  return x\n",
        "\n",
        "#Função para calcular quantas vezes os horários se repetem\n",
        "def acidentes_horario(x):\n",
        "  dicionario = {0: 0, 1:0, 2:0,3:0,4:0,5:0,6:0,7:0,8:0,9:0,10:0,11:0,12:0,13:0,14:0,15:0,16:0,17:0,18:0,19:0,20:0,21:0,22:0,23:0}\n",
        "  for i in x:\n",
        "    dicionario[i] = dicionario[i]+ 1\n",
        "  return [dicionario[i] for i in range(24)]"
      ],
      "metadata": {
        "id": "BK71DMEuZ-NV"
      },
      "execution_count": 6,
      "outputs": []
    },
    {
      "cell_type": "markdown",
      "source": [
        "Por fim, modificamos o tipo de dado da data para datetime."
      ],
      "metadata": {
        "id": "h78nd54NzhfJ"
      }
    },
    {
      "cell_type": "code",
      "source": [
        "df['data_inversa'] = pd.to_datetime(df['data_inversa'], format='%d/%m/%Y')"
      ],
      "metadata": {
        "id": "nyK8SKYwyjXK"
      },
      "execution_count": 10,
      "outputs": []
    },
    {
      "cell_type": "markdown",
      "source": [
        "# <font color='darkorange'>4. Perguntas</font>"
      ],
      "metadata": {
        "id": "KfW8ax5Azlum"
      }
    },
    {
      "cell_type": "markdown",
      "source": [
        "## <font color='darkorange'>4.1 Quais locais ocorrem mais acidentes no Brasil?</font>"
      ],
      "metadata": {
        "id": "2pAVshqZzpZ6"
      }
    },
    {
      "cell_type": "code",
      "source": [
        "plt.figure(figsize=(15,6))\n",
        "plt.title(\"Acidentes por estado\")\n",
        "p = sns.countplot(x=df['uf'], palette=\"flare\", order=df['uf'].value_counts().index)\n",
        "p.set_xlabel(\"Estados\", fontsize = 9)\n",
        "p.set_ylabel(\"Número acidentes\", fontsize = 9)\n",
        "plt.show()"
      ],
      "metadata": {
        "colab": {
          "base_uri": "https://localhost:8080/",
          "height": 563
        },
        "id": "O7LsnoAV3auj",
        "outputId": "95a37fcd-9953-47df-b664-a63c2e8b5763"
      },
      "execution_count": 11,
      "outputs": [
        {
          "output_type": "display_data",
          "data": {
            "text/plain": [
              "<Figure size 1500x600 with 1 Axes>"
            ],
            "image/png": "[encoded data removed]"
          },
          "metadata": {}
        }
      ]
    },
    {
      "cell_type": "markdown",
      "source": [
        "\n",
        "De acordo o gráfico, o estado com maior ocorrência de acidentes é Minas Gerais. Por outro lado, o estado com o menor número é Amazonas."
      ],
      "metadata": {
        "id": "yBB_pVhD4qM6"
      }
    },
    {
      "cell_type": "code",
      "source": [
        "plt.figure(figsize=(15,6))\n",
        "plt.title(\"10 cidades com mais acidentes em 2021\")\n",
        "p = sns.barplot(x=df[\"municipio\"].value_counts()[:10].index, y=df[\"municipio\"].value_counts()[:10].values, palette=\"flare\")\n",
        "p.set_xlabel(\"Cidades\", fontsize = 9)\n",
        "p.set_ylabel(\"Número acidentes\", fontsize = 9)\n",
        "plt.show()"
      ],
      "metadata": {
        "colab": {
          "base_uri": "https://localhost:8080/",
          "height": 563
        },
        "id": "S2krvRaS4qlj",
        "outputId": "4060e927-7380-4c9e-ada6-b1c05c742e6d"
      },
      "execution_count": 13,
      "outputs": [
        {
          "output_type": "display_data",
          "data": {
            "text/plain": [
              "<Figure size 1500x600 with 1 Axes>"
            ],
            "image/png": "[encoded data removed]"
          },
          "metadata": {}
        }
      ]
    },
    {
      "cell_type": "markdown",
      "source": [
        "Ao analisar o gráfico acima, percebe-se que a cidade que apresentou mais acidentes foi Brasília. As cidades São José e Palhoça fazem parte do estado de Santa Catarina, o qual ocupa a segunda posição do ranking de acidentes por estado. Já Curitiba e São José dos Pinhais são do estado do Paraná, o qual ocupa a terceira posição do ranking de acidentes por estado.\n",
        "\n",
        "\n"
      ],
      "metadata": {
        "id": "QJ1wQ1yu6iHE"
      }
    },
    {
      "cell_type": "markdown",
      "source": [
        "## <font color='darkorange'>4.2 Em que dias da semana e horários ocorrem mais acidentes de trânsito no Brasil?</font>"
      ],
      "metadata": {
        "id": "X8n1eHW9zwha"
      }
    },
    {
      "cell_type": "markdown",
      "source": [
        "Para os dias da semana:"
      ],
      "metadata": {
        "id": "Xzlo2xjNWeyU"
      }
    },
    {
      "cell_type": "code",
      "source": [
        "dia_acidente = pd.DataFrame()\n",
        "dia_acidente['dia_semana'] = df['dia_semana'].value_counts().index\n",
        "dia_acidente['quantidade'] = df['dia_semana'].value_counts().values\n",
        "dia_acidente.head()"
      ],
      "metadata": {
        "id": "Ys-Lw79ePj_F",
        "outputId": "ee8c2625-2927-41d2-83af-9388720002e3",
        "colab": {
          "base_uri": "https://localhost:8080/",
          "height": 206
        }
      },
      "execution_count": null,
      "outputs": [
        {
          "output_type": "execute_result",
          "data": {
            "text/plain": [
              "      dia_semana  quantidade\n",
              "0         sábado        5165\n",
              "1        domingo        5088\n",
              "2    sexta-feira        4880\n",
              "3  segunda-feira        4164\n",
              "4   quarta-feira        3916"
            ],
            "text/html": [
              "\n",
              "  <div id=\"df-e63f817d-b441-4ef1-a4a7-a8326ef2d845\">\n",
              "    <div class=\"colab-df-container\">\n",
              "      <div>\n",
              "<style scoped>\n",
              "    .dataframe tbody tr th:only-of-type {\n",
              "        vertical-align: middle;\n",
              "    }\n",
              "\n",
              "    .dataframe tbody tr th {\n",
              "        vertical-align: top;\n",
              "    }\n",
              "\n",
              "    .dataframe thead th {\n",
              "        text-align: right;\n",
              "    }\n",
              "</style>\n",
              "<table border=\"1\" class=\"dataframe\">\n",
              "  <thead>\n",
              "    <tr style=\"text-align: right;\">\n",
              "      <th></th>\n",
              "      <th>dia_semana</th>\n",
              "      <th>quantidade</th>\n",
              "    </tr>\n",
              "  </thead>\n",
              "  <tbody>\n",
              "    <tr>\n",
              "      <th>0</th>\n",
              "      <td>sábado</td>\n",
              "      <td>5165</td>\n",
              "    </tr>\n",
              "    <tr>\n",
              "      <th>1</th>\n",
              "      <td>domingo</td>\n",
              "      <td>5088</td>\n",
              "    </tr>\n",
              "    <tr>\n",
              "      <th>2</th>\n",
              "      <td>sexta-feira</td>\n",
              "      <td>4880</td>\n",
              "    </tr>\n",
              "    <tr>\n",
              "      <th>3</th>\n",
              "      <td>segunda-feira</td>\n",
              "      <td>4164</td>\n",
              "    </tr>\n",
              "    <tr>\n",
              "      <th>4</th>\n",
              "      <td>quarta-feira</td>\n",
              "      <td>3916</td>\n",
              "    </tr>\n",
              "  </tbody>\n",
              "</table>\n",
              "</div>\n",
              "      <button class=\"colab-df-convert\" onclick=\"convertToInteractive('df-e63f817d-b441-4ef1-a4a7-a8326ef2d845')\"\n",
              "              title=\"Convert this dataframe to an interactive table.\"\n",
              "              style=\"display:none;\">\n",
              "        \n",
              "  <svg xmlns=\"http://www.w3.org/2000/svg\" height=\"24px\"viewBox=\"0 0 24 24\"\n",
              "       width=\"24px\">\n",
              "    <path d=\"M0 0h24v24H0V0z\" fill=\"none\"/>\n",
              "    <path d=\"M18.56 5.44l.94 2.06.94-2.06 2.06-.94-2.06-.94-.94-2.06-.94 2.06-2.06.94zm-11 1L8.5 8.5l.94-2.06 2.06-.94-2.06-.94L8.5 2.5l-.94 2.06-2.06.94zm10 10l.94 2.06.94-2.06 2.06-.94-2.06-.94-.94-2.06-.94 2.06-2.06.94z\"/><path d=\"M17.41 7.96l-1.37-1.37c-.4-.4-.92-.59-1.43-.59-.52 0-1.04.2-1.43.59L10.3 9.45l-7.72 7.72c-.78.78-.78 2.05 0 2.83L4 21.41c.39.39.9.59 1.41.59.51 0 1.02-.2 1.41-.59l7.78-7.78 2.81-2.81c.8-.78.8-2.07 0-2.86zM5.41 20L4 18.59l7.72-7.72 1.47 1.35L5.41 20z\"/>\n",
              "  </svg>\n",
              "      </button>\n",
              "      \n",
              "  <style>\n",
              "    .colab-df-container {\n",
              "      display:flex;\n",
              "      flex-wrap:wrap;\n",
              "      gap: 12px;\n",
              "    }\n",
              "\n",
              "    .colab-df-convert {\n",
              "      background-color: #E8F0FE;\n",
              "      border: none;\n",
              "      border-radius: 50%;\n",
              "      cursor: pointer;\n",
              "      display: none;\n",
              "      fill: #1967D2;\n",
              "      height: 32px;\n",
              "      padding: 0 0 0 0;\n",
              "      width: 32px;\n",
              "    }\n",
              "\n",
              "    .colab-df-convert:hover {\n",
              "      background-color: #E2EBFA;\n",
              "      box-shadow: 0px 1px 2px rgba(60, 64, 67, 0.3), 0px 1px 3px 1px rgba(60, 64, 67, 0.15);\n",
              "      fill: #174EA6;\n",
              "    }\n",
              "\n",
              "    [theme=dark] .colab-df-convert {\n",
              "      background-color: #3B4455;\n",
              "      fill: #D2E3FC;\n",
              "    }\n",
              "\n",
              "    [theme=dark] .colab-df-convert:hover {\n",
              "      background-color: #434B5C;\n",
              "      box-shadow: 0px 1px 3px 1px rgba(0, 0, 0, 0.15);\n",
              "      filter: drop-shadow(0px 1px 2px rgba(0, 0, 0, 0.3));\n",
              "      fill: #FFFFFF;\n",
              "    }\n",
              "  </style>\n",
              "\n",
              "      <script>\n",
              "        const buttonEl =\n",
              "          document.querySelector('#df-e63f817d-b441-4ef1-a4a7-a8326ef2d845 button.colab-df-convert');\n",
              "        buttonEl.style.display =\n",
              "          google.colab.kernel.accessAllowed ? 'block' : 'none';\n",
              "\n",
              "        async function convertToInteractive(key) {\n",
              "          const element = document.querySelector('#df-e63f817d-b441-4ef1-a4a7-a8326ef2d845');\n",
              "          const dataTable =\n",
              "            await google.colab.kernel.invokeFunction('convertToInteractive',\n",
              "                                                     [key], {});\n",
              "          if (!dataTable) return;\n",
              "\n",
              "          const docLinkHtml = 'Like what you see? Visit the ' +\n",
              "            '<a target=\"_blank\" href=https://colab.research.google.com/notebooks/data_table.ipynb>data table notebook</a>'\n",
              "            + ' to learn more about interactive tables.';\n",
              "          element.innerHTML = '';\n",
              "          dataTable['output_type'] = 'display_data';\n",
              "          await google.colab.output.renderOutput(dataTable, element);\n",
              "          const docLink = document.createElement('div');\n",
              "          docLink.innerHTML = docLinkHtml;\n",
              "          element.appendChild(docLink);\n",
              "        }\n",
              "      </script>\n",
              "    </div>\n",
              "  </div>\n",
              "  "
            ]
          },
          "metadata": {},
          "execution_count": 26
        }
      ]
    },
    {
      "cell_type": "code",
      "source": [
        "plt.figure(figsize=(15,6))\n",
        "plt.title(\"Número de acidentes por dia da semana\")\n",
        "p = sns.countplot(data=df, x='dia_semana', palette='flare')\n",
        "p.set_xlabel(\"Dia da semana\")\n",
        "p.set_ylabel(\"Número de acidentes\")\n",
        "plt.show()"
      ],
      "metadata": {
        "colab": {
          "base_uri": "https://localhost:8080/",
          "height": 565
        },
        "id": "jKNCK2KjWD3N",
        "outputId": "e1373832-b231-45ee-8ac3-eae354418e9a"
      },
      "execution_count": 14,
      "outputs": [
        {
          "output_type": "display_data",
          "data": {
            "text/plain": [
              "<Figure size 1500x600 with 1 Axes>"
            ],
            "image/png": "[encoded data removed]"
          },
          "metadata": {}
        }
      ]
    },
    {
      "cell_type": "markdown",
      "source": [
        "Para os horários:"
      ],
      "metadata": {
        "id": "qVdbzvQcWrEf"
      }
    },
    {
      "cell_type": "code",
      "source": [
        "df2 = df\n",
        "df2['Horarios'] = df2['horario'].apply(horario)\n",
        "acidentes_por_horario  = acidentes_horario(df2['Horarios'])\n",
        "df3 = pd.DataFrame({'Horários':[0,1,2,3,4,5,6,7,8,9,10,11,12,13,14,15,16,17,18,19,20,21,22,23],'Acidentes':acidentes_por_horario})\n",
        "plt.figure(figsize=(15,6))\n",
        "plt.title(\"Gráfico dos horários(linha)\")\n",
        "sns.lineplot(x=df3['Horários'],y=df3['Acidentes'],color=\"purple\")\n",
        "plt.show()"
      ],
      "metadata": {
        "colab": {
          "base_uri": "https://localhost:8080/",
          "height": 564
        },
        "id": "WCDLpVC8W0oA",
        "outputId": "0130b802-17d6-4f23-f45e-bd6bc0819091"
      },
      "execution_count": 18,
      "outputs": [
        {
          "output_type": "display_data",
          "data": {
            "text/plain": [
              "<Figure size 1500x600 with 1 Axes>"
            ],
            "image/png": "[encoded data removed]"
          },
          "metadata": {}
        }
      ]
    },
    {
      "cell_type": "markdown",
      "source": [
        "Agrupamento de horários por meio do K-means para entender quais horários ocorreram acidentes com mais feridos"
      ],
      "metadata": {
        "id": "jhftY6GOhDsQ"
      }
    },
    {
      "cell_type": "code",
      "source": [
        "df_group = df[[\"feridos\", \"Horarios\"]]\n",
        "kmeans = KMeans(n_clusters=3,n_init='auto')\n",
        "kmeans.fit(df_group)\n",
        "KMeans(n_clusters=3)\n",
        "plt.title(\"Agrupamento feridos e horários\")\n",
        "sns.scatterplot(data=df_group, x=\"feridos\", y=\"Horarios\", hue=kmeans.labels_,palette=\"flare\")\n",
        "plt.xlabel(\"Número de feridos\")\n",
        "plt.ylabel(\"Horários\")\n",
        "plt.show()\n",
        "     "
      ],
      "metadata": {
        "colab": {
          "base_uri": "https://localhost:8080/",
          "height": 472
        },
        "id": "cF1lNEUPgrAU",
        "outputId": "1df11910-78a8-40d6-ac8a-f271c02aeca6"
      },
      "execution_count": 21,
      "outputs": [
        {
          "output_type": "display_data",
          "data": {
            "text/plain": [
              "<Figure size 640x480 with 1 Axes>"
            ],
            "image/png": "[encoded data removed]"
          },
          "metadata": {}
        }
      ]
    },
    {
      "cell_type": "markdown",
      "source": [
        "A partir dos gráficos acima é possível perceber que, no âmbito dos dias da semana, há um aumento considerável no número de acidentes nos sábados e domingos. Já nos horários, o intervalo entre 17 e 19 horas possui mais casos. Ademais, atráves do agrupamento realizado no último gráfico, nota-se que o intervalo de tempo com maior número de feridos foi no intervalo das 0 as 10 horas da manhã, por mais que a maior parte dos acidentes fosse nos outros horários."
      ],
      "metadata": {
        "id": "PwZJqEEKvf77"
      }
    },
    {
      "cell_type": "markdown",
      "source": [
        "## <font color='darkorange'>4.3 Quais foram os tipos de acidentes mais recorrentes?</font>"
      ],
      "metadata": {
        "id": "BGsFGwUqz2_p"
      }
    },
    {
      "cell_type": "markdown",
      "source": [
        "Usando o gráfico de barras a seguir para a demonstração dos dados:"
      ],
      "metadata": {
        "id": "FT7xp5zYgW4y"
      }
    },
    {
      "cell_type": "code",
      "source": [
        "\n",
        "acidentes = pd.DataFrame()\n",
        "acidentes['tipo_acidente'] = df['tipo_acidente'].value_counts().index\n",
        "acidentes['acidentes'] = df['tipo_acidente'].value_counts().values\n",
        "tipos_acidentes = ['Colisão Tras.',' Saída de jeito carr.','Colisão Trans.','Tombamento','Colis. Lat. Sent. igual','Colis. Frontal','Atropel. de ped.','Queda de ocup. veic.','Capotamento','Colis. Lat. Sent. Oposto',\n",
        "                  'Colis. Lat','Incêndio','Engavetamento','Atrop. de animal','Eventos atípicos', 'Derram. de carga','outro']\n",
        "\n",
        "plt.figure(figsize = (30,10))\n",
        "sns.barplot(x= acidentes['tipo_acidente'], y= acidentes['acidentes'], palette = \"flare\")\n",
        "plt.xlabel('Tipos de acidentes', fontsize = 14)\n",
        "plt.ylabel('Num de acidentes', fontsize = 14)\n",
        "plt.xticks(range(17), tipos_acidentes)\n",
        "plt.show()\n"
      ],
      "metadata": {
        "colab": {
          "base_uri": "https://localhost:8080/",
          "height": 875
        },
        "id": "S_doqWwSNqiM",
        "outputId": "e62095c5-6178-4949-b996-ac77109c3b57"
      },
      "execution_count": 17,
      "outputs": [
        {
          "output_type": "display_data",
          "data": {
            "text/plain": [
              "<Figure size 3000x1000 with 1 Axes>"
            ],
            "image/png": "[encoded data removed]"
          },
          "metadata": {}
        }
      ]
    },
    {
      "cell_type": "markdown",
      "source": [
        "Através do gráfico de barras acima, é possível observar as razões que causaram acidentes naquele ano. No pódio, estão: colisão traseira, com quase 6 mil acidentes, seguido por saída de jeito carroçável, com 5 mil e, por fim,  colisão transversal, com quase 4 mil."
      ],
      "metadata": {
        "id": "IkNlG3VuZmNg"
      }
    },
    {
      "cell_type": "markdown",
      "source": [
        "Abreviações:\n",
        "\n",
        "- 1) Colisão traseira; \n",
        "- 2) Saída de jeito carroçável;\n",
        "- 3) Colisão transversal;\n",
        "- 5) Colisão Lateral de sentido igual;\n",
        "- 6) Colisão frontal;\n",
        "- 7) Atropelamento de pedreste;\n",
        "- 8) Queda de ocupante de veículo;\n",
        "- 10) Colisão lateral de sentido oposto;\n",
        "- 11) Colisão lateral\n",
        "- 14) Atropelamento de animal;\n",
        "- 16) Derramamento de carga.\n"
      ],
      "metadata": {
        "id": "xk0hUH7boa0C"
      }
    },
    {
      "cell_type": "markdown",
      "source": [
        "# <font color='darkorange'>5. Conclusão</font>"
      ],
      "metadata": {
        "id": "8eOzD_xwz-hA"
      }
    },
    {
      "cell_type": "markdown",
      "source": [
        "### Resultados encontrados:\n",
        "A partir da análise desenvolvida, por meio do dataset \"Acidentes de trânsito no Brasil em 2021\", conclui-se que:\n",
        "- As regiões que mais ocorreram acidentes no período observado foram Sul e Sudeste, com destaque para os estados de Minas Gerais, Paraná e Santa Catarina. Já as cidades com o maior número de acidentes foram Brasília e Curitiba.\n",
        "- Com relação aos dias das semanas, percebe-se um aumento considerável no número de acidentes nos sábados e domingos. Já nos horários, o intervalo entre 17 e 19 horas possui mais casos.\n",
        "-  Os tipos de acidentes de trânsito no ano em questão com maior número de acidentes não fugiram do comum. A colisão traseira lidera o ranking com quase 6 mil ocorrências. Tal fato pode ser explicado pela ausência de espaço entre os veículos, bem como distrações do motorista.\n",
        "\n",
        "### Limitações:\n",
        " O dataset escolhido tem como limitação o curto período dos dados obtidos em 2021, sendo de apenas 6 meses. Além disso, não foi possível comparar as informações desse ano com o anterior devido ao demasiado tamanho do arquivo, não sendo viável baixá-lo. Por fim, estudar todas as causas de acidentes obtidas nesse dataset foi inviável, já que o número de dados é extenso e diverso.\n",
        "\n",
        "### Possíveis melhorias:\n",
        "No que diz respeito aos procedimentos de análises do dataset, foi identificada a necessidade de se trabalhar com a manipulação de dados no formato de strings (datas, causas de acidentes, horário...), a qual não foi muito explorada. Ainda sob esse viés, utilizar outras variáveis e datasets de diferentes períodos."
      ],
      "metadata": {
        "id": "QXHNXj3h032Q"
      }
    }
  ]
}