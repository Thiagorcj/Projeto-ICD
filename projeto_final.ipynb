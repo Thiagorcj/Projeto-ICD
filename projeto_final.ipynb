{
  "nbformat": 4,
  "nbformat_minor": 0,
  "metadata": {
    "colab": {
      "provenance": [],
      "authorship_tag": "ABX9TyMcbZGMDaT1wu7CYRPPhISm",
      "include_colab_link": true
    },
    "kernelspec": {
      "name": "python3",
      "display_name": "Python 3"
    },
    "language_info": {
      "name": "python"
    }
  },
  "cells": [
    {
      "cell_type": "markdown",
      "metadata": {
        "id": "view-in-github",
        "colab_type": "text"
      },
      "source": [
        "<a href=\"https://colab.research.google.com/github/Thiagorcj/Projeto-ICD/blob/main/projeto_final.ipynb\" target=\"_parent\"><img src=\"https://colab.research.google.com/assets/colab-badge.svg\" alt=\"Open In Colab\"/></a>"
      ]
    },
    {
      "cell_type": "markdown",
      "source": [
        "# <font color='darkorange'>Análise de Acidentes de Trânsito </font>\n",
        "\n",
        "### Alunos:\n",
        "* Daniele Vitoria Morais Silva\n",
        "* Gisele de Freitas Menezes \n",
        "* Maria Eduarda Bandeira Hora de Vasconcelos\n",
        "* Thiago Rodrigues Cruz Justino "
      ],
      "metadata": {
        "id": "AQVCehy4up8a"
      }
    },
    {
      "cell_type": "markdown",
      "source": [
        "# <font color='darkorange'>1. Introdução</font>\n",
        "\n",
        "### Motivação:\n",
        "\n",
        "### Objetivos:"
      ],
      "metadata": {
        "id": "izWJdXMLv7bk"
      }
    },
    {
      "cell_type": "markdown",
      "source": [
        "# <font color='darkorange'>2. Explorando os dados</font>"
      ],
      "metadata": {
        "id": "e4HxKWizyRRZ"
      }
    },
    {
      "cell_type": "code",
      "source": [
        "import pandas as pd\n",
        "import matplotlib.pyplot as plt\n",
        "import seaborn as sns"
      ],
      "metadata": {
        "id": "rAyHXukb3L-m"
      },
      "execution_count": 1,
      "outputs": []
    },
    {
      "cell_type": "code",
      "source": [
        "df = pd.read_csv('https://raw.githubusercontent.com/Thiagorcj/Projeto-ICD/main/Acidentes_2021.csv', sep=';', engine='python', encoding='latin-1')\n",
        "df.head()"
      ],
      "metadata": {
        "colab": {
          "base_uri": "https://localhost:8080/",
          "height": 456
        },
        "id": "IJ8Q8PHl3UFp",
        "outputId": "a2b82052-a807-4a9d-83e1-96bf65d99fca"
      },
      "execution_count": 2,
      "outputs": [
        {
          "output_type": "execute_result",
          "data": {
            "text/plain": [
              "       id data_inversa   dia_semana   horario  uf     br     km   municipio  \\\n",
              "0  331693   01/01/2021  sexta-feira  00:02:00  SC  101.0  314,9      LAGUNA   \n",
              "1  331694   01/01/2021  sexta-feira  00:15:00  PR  376.0    188    MARIALVA   \n",
              "2  331696   01/01/2021  sexta-feira  00:00:00  SP  116.0  110,6     TAUBATE   \n",
              "3  331699   01/01/2021  sexta-feira  01:20:00  SC  101.0    111  NAVEGANTES   \n",
              "4  331701   01/01/2021  sexta-feira  00:30:00  PE  101.0   45,1    IGARASSU   \n",
              "\n",
              "                             causa_acidente       tipo_acidente  ...  \\\n",
              "0          Ingestão de álcool pelo condutor    Colisão traseira  ...   \n",
              "1                   Velocidade Incompatível  Colisão com objeto  ...   \n",
              "2      Demais falhas mecânicas ou elétricas            Incêndio  ...   \n",
              "3               Manobra de mudança de faixa     Colisão lateral  ...   \n",
              "4  Reação tardia ou ineficiente do condutor    Colisão traseira  ...   \n",
              "\n",
              "  feridos_graves ilesos ignorados feridos veiculos      latitude  \\\n",
              "0              0      2         0       1        2  -28,43029392   \n",
              "1              0      0         0       2        1  -23,46634923   \n",
              "2              0      1         0       0        1  -23,03412614   \n",
              "3              0      1         0       2        2  -26,83955734   \n",
              "4              1      1         0       1        2   -7,86521297   \n",
              "\n",
              "      longitude  regional  delegacia    uop  \n",
              "0  -48,84925073     SR-SC      UOP01  DEL02  \n",
              "1  -51,82808011     SR-PR      UOP01  DEL09  \n",
              "2   -45,5526999     SR-SP      UOP01  DEL06  \n",
              "3  -48,71418074     SR-SC      UOP04  DEL04  \n",
              "4  -34,90715176     SR-PE      UOP02  DEL01  \n",
              "\n",
              "[5 rows x 30 columns]"
            ],
            "text/html": [
              "\n",
              "  <div id=\"df-0244747c-48c2-408a-86b7-4acfed6d2ee4\">\n",
              "    <div class=\"colab-df-container\">\n",
              "      <div>\n",
              "<style scoped>\n",
              "    .dataframe tbody tr th:only-of-type {\n",
              "        vertical-align: middle;\n",
              "    }\n",
              "\n",
              "    .dataframe tbody tr th {\n",
              "        vertical-align: top;\n",
              "    }\n",
              "\n",
              "    .dataframe thead th {\n",
              "        text-align: right;\n",
              "    }\n",
              "</style>\n",
              "<table border=\"1\" class=\"dataframe\">\n",
              "  <thead>\n",
              "    <tr style=\"text-align: right;\">\n",
              "      <th></th>\n",
              "      <th>id</th>\n",
              "      <th>data_inversa</th>\n",
              "      <th>dia_semana</th>\n",
              "      <th>horario</th>\n",
              "      <th>uf</th>\n",
              "      <th>br</th>\n",
              "      <th>km</th>\n",
              "      <th>municipio</th>\n",
              "      <th>causa_acidente</th>\n",
              "      <th>tipo_acidente</th>\n",
              "      <th>...</th>\n",
              "      <th>feridos_graves</th>\n",
              "      <th>ilesos</th>\n",
              "      <th>ignorados</th>\n",
              "      <th>feridos</th>\n",
              "      <th>veiculos</th>\n",
              "      <th>latitude</th>\n",
              "      <th>longitude</th>\n",
              "      <th>regional</th>\n",
              "      <th>delegacia</th>\n",
              "      <th>uop</th>\n",
              "    </tr>\n",
              "  </thead>\n",
              "  <tbody>\n",
              "    <tr>\n",
              "      <th>0</th>\n",
              "      <td>331693</td>\n",
              "      <td>01/01/2021</td>\n",
              "      <td>sexta-feira</td>\n",
              "      <td>00:02:00</td>\n",
              "      <td>SC</td>\n",
              "      <td>101.0</td>\n",
              "      <td>314,9</td>\n",
              "      <td>LAGUNA</td>\n",
              "      <td>Ingestão de álcool pelo condutor</td>\n",
              "      <td>Colisão traseira</td>\n",
              "      <td>...</td>\n",
              "      <td>0</td>\n",
              "      <td>2</td>\n",
              "      <td>0</td>\n",
              "      <td>1</td>\n",
              "      <td>2</td>\n",
              "      <td>-28,43029392</td>\n",
              "      <td>-48,84925073</td>\n",
              "      <td>SR-SC</td>\n",
              "      <td>UOP01</td>\n",
              "      <td>DEL02</td>\n",
              "    </tr>\n",
              "    <tr>\n",
              "      <th>1</th>\n",
              "      <td>331694</td>\n",
              "      <td>01/01/2021</td>\n",
              "      <td>sexta-feira</td>\n",
              "      <td>00:15:00</td>\n",
              "      <td>PR</td>\n",
              "      <td>376.0</td>\n",
              "      <td>188</td>\n",
              "      <td>MARIALVA</td>\n",
              "      <td>Velocidade Incompatível</td>\n",
              "      <td>Colisão com objeto</td>\n",
              "      <td>...</td>\n",
              "      <td>0</td>\n",
              "      <td>0</td>\n",
              "      <td>0</td>\n",
              "      <td>2</td>\n",
              "      <td>1</td>\n",
              "      <td>-23,46634923</td>\n",
              "      <td>-51,82808011</td>\n",
              "      <td>SR-PR</td>\n",
              "      <td>UOP01</td>\n",
              "      <td>DEL09</td>\n",
              "    </tr>\n",
              "    <tr>\n",
              "      <th>2</th>\n",
              "      <td>331696</td>\n",
              "      <td>01/01/2021</td>\n",
              "      <td>sexta-feira</td>\n",
              "      <td>00:00:00</td>\n",
              "      <td>SP</td>\n",
              "      <td>116.0</td>\n",
              "      <td>110,6</td>\n",
              "      <td>TAUBATE</td>\n",
              "      <td>Demais falhas mecânicas ou elétricas</td>\n",
              "      <td>Incêndio</td>\n",
              "      <td>...</td>\n",
              "      <td>0</td>\n",
              "      <td>1</td>\n",
              "      <td>0</td>\n",
              "      <td>0</td>\n",
              "      <td>1</td>\n",
              "      <td>-23,03412614</td>\n",
              "      <td>-45,5526999</td>\n",
              "      <td>SR-SP</td>\n",
              "      <td>UOP01</td>\n",
              "      <td>DEL06</td>\n",
              "    </tr>\n",
              "    <tr>\n",
              "      <th>3</th>\n",
              "      <td>331699</td>\n",
              "      <td>01/01/2021</td>\n",
              "      <td>sexta-feira</td>\n",
              "      <td>01:20:00</td>\n",
              "      <td>SC</td>\n",
              "      <td>101.0</td>\n",
              "      <td>111</td>\n",
              "      <td>NAVEGANTES</td>\n",
              "      <td>Manobra de mudança de faixa</td>\n",
              "      <td>Colisão lateral</td>\n",
              "      <td>...</td>\n",
              "      <td>0</td>\n",
              "      <td>1</td>\n",
              "      <td>0</td>\n",
              "      <td>2</td>\n",
              "      <td>2</td>\n",
              "      <td>-26,83955734</td>\n",
              "      <td>-48,71418074</td>\n",
              "      <td>SR-SC</td>\n",
              "      <td>UOP04</td>\n",
              "      <td>DEL04</td>\n",
              "    </tr>\n",
              "    <tr>\n",
              "      <th>4</th>\n",
              "      <td>331701</td>\n",
              "      <td>01/01/2021</td>\n",
              "      <td>sexta-feira</td>\n",
              "      <td>00:30:00</td>\n",
              "      <td>PE</td>\n",
              "      <td>101.0</td>\n",
              "      <td>45,1</td>\n",
              "      <td>IGARASSU</td>\n",
              "      <td>Reação tardia ou ineficiente do condutor</td>\n",
              "      <td>Colisão traseira</td>\n",
              "      <td>...</td>\n",
              "      <td>1</td>\n",
              "      <td>1</td>\n",
              "      <td>0</td>\n",
              "      <td>1</td>\n",
              "      <td>2</td>\n",
              "      <td>-7,86521297</td>\n",
              "      <td>-34,90715176</td>\n",
              "      <td>SR-PE</td>\n",
              "      <td>UOP02</td>\n",
              "      <td>DEL01</td>\n",
              "    </tr>\n",
              "  </tbody>\n",
              "</table>\n",
              "<p>5 rows × 30 columns</p>\n",
              "</div>\n",
              "      <button class=\"colab-df-convert\" onclick=\"convertToInteractive('df-0244747c-48c2-408a-86b7-4acfed6d2ee4')\"\n",
              "              title=\"Convert this dataframe to an interactive table.\"\n",
              "              style=\"display:none;\">\n",
              "        \n",
              "  <svg xmlns=\"http://www.w3.org/2000/svg\" height=\"24px\"viewBox=\"0 0 24 24\"\n",
              "       width=\"24px\">\n",
              "    <path d=\"M0 0h24v24H0V0z\" fill=\"none\"/>\n",
              "    <path d=\"M18.56 5.44l.94 2.06.94-2.06 2.06-.94-2.06-.94-.94-2.06-.94 2.06-2.06.94zm-11 1L8.5 8.5l.94-2.06 2.06-.94-2.06-.94L8.5 2.5l-.94 2.06-2.06.94zm10 10l.94 2.06.94-2.06 2.06-.94-2.06-.94-.94-2.06-.94 2.06-2.06.94z\"/><path d=\"M17.41 7.96l-1.37-1.37c-.4-.4-.92-.59-1.43-.59-.52 0-1.04.2-1.43.59L10.3 9.45l-7.72 7.72c-.78.78-.78 2.05 0 2.83L4 21.41c.39.39.9.59 1.41.59.51 0 1.02-.2 1.41-.59l7.78-7.78 2.81-2.81c.8-.78.8-2.07 0-2.86zM5.41 20L4 18.59l7.72-7.72 1.47 1.35L5.41 20z\"/>\n",
              "  </svg>\n",
              "      </button>\n",
              "      \n",
              "  <style>\n",
              "    .colab-df-container {\n",
              "      display:flex;\n",
              "      flex-wrap:wrap;\n",
              "      gap: 12px;\n",
              "    }\n",
              "\n",
              "    .colab-df-convert {\n",
              "      background-color: #E8F0FE;\n",
              "      border: none;\n",
              "      border-radius: 50%;\n",
              "      cursor: pointer;\n",
              "      display: none;\n",
              "      fill: #1967D2;\n",
              "      height: 32px;\n",
              "      padding: 0 0 0 0;\n",
              "      width: 32px;\n",
              "    }\n",
              "\n",
              "    .colab-df-convert:hover {\n",
              "      background-color: #E2EBFA;\n",
              "      box-shadow: 0px 1px 2px rgba(60, 64, 67, 0.3), 0px 1px 3px 1px rgba(60, 64, 67, 0.15);\n",
              "      fill: #174EA6;\n",
              "    }\n",
              "\n",
              "    [theme=dark] .colab-df-convert {\n",
              "      background-color: #3B4455;\n",
              "      fill: #D2E3FC;\n",
              "    }\n",
              "\n",
              "    [theme=dark] .colab-df-convert:hover {\n",
              "      background-color: #434B5C;\n",
              "      box-shadow: 0px 1px 3px 1px rgba(0, 0, 0, 0.15);\n",
              "      filter: drop-shadow(0px 1px 2px rgba(0, 0, 0, 0.3));\n",
              "      fill: #FFFFFF;\n",
              "    }\n",
              "  </style>\n",
              "\n",
              "      <script>\n",
              "        const buttonEl =\n",
              "          document.querySelector('#df-0244747c-48c2-408a-86b7-4acfed6d2ee4 button.colab-df-convert');\n",
              "        buttonEl.style.display =\n",
              "          google.colab.kernel.accessAllowed ? 'block' : 'none';\n",
              "\n",
              "        async function convertToInteractive(key) {\n",
              "          const element = document.querySelector('#df-0244747c-48c2-408a-86b7-4acfed6d2ee4');\n",
              "          const dataTable =\n",
              "            await google.colab.kernel.invokeFunction('convertToInteractive',\n",
              "                                                     [key], {});\n",
              "          if (!dataTable) return;\n",
              "\n",
              "          const docLinkHtml = 'Like what you see? Visit the ' +\n",
              "            '<a target=\"_blank\" href=https://colab.research.google.com/notebooks/data_table.ipynb>data table notebook</a>'\n",
              "            + ' to learn more about interactive tables.';\n",
              "          element.innerHTML = '';\n",
              "          dataTable['output_type'] = 'display_data';\n",
              "          await google.colab.output.renderOutput(dataTable, element);\n",
              "          const docLink = document.createElement('div');\n",
              "          docLink.innerHTML = docLinkHtml;\n",
              "          element.appendChild(docLink);\n",
              "        }\n",
              "      </script>\n",
              "    </div>\n",
              "  </div>\n",
              "  "
            ]
          },
          "metadata": {},
          "execution_count": 2
        }
      ]
    },
    {
      "cell_type": "markdown",
      "source": [
        "# <font color='darkorange'>3. Limpeza de dados</font>"
      ],
      "metadata": {
        "id": "JLRhSzv3zJwf"
      }
    },
    {
      "cell_type": "markdown",
      "source": [
        "# <font color='darkorange'>4. Perguntas</font>"
      ],
      "metadata": {
        "id": "KfW8ax5Azlum"
      }
    },
    {
      "cell_type": "markdown",
      "source": [
        "## <font color='darkorange'>4.1 Quais locais ocorrem mais acidentes no Brasil?</font>"
      ],
      "metadata": {
        "id": "2pAVshqZzpZ6"
      }
    },
    {
      "cell_type": "code",
      "source": [
        "plt.figure(figsize=(15,6))\n",
        "plt.title(\"Acidentes por estado\")\n",
        "p = sns.countplot(x=df['uf'], palette=\"flare\", order=df['uf'].value_counts().index)\n",
        "p.set_xlabel(\"Estados\", fontsize = 9)\n",
        "p.set_ylabel(\"Número acidentes\", fontsize = 9)\n",
        "plt.show()"
      ],
      "metadata": {
        "colab": {
          "base_uri": "https://localhost:8080/",
          "height": 563
        },
        "id": "O7LsnoAV3auj",
        "outputId": "4c3f78f6-0bd5-4390-bf80-bb7565839833"
      },
      "execution_count": 9,
      "outputs": [
        {
          "output_type": "display_data",
          "data": {
            "text/plain": [
              "<Figure size 1500x600 with 1 Axes>"
            ],
            "image/png": "[encoded data removed]"
          },
          "metadata": {}
        }
      ]
    },
    {
      "cell_type": "markdown",
      "source": [
        "O estado com mais acidentes em 2021 é Minas Gerais, em seguida temos Santa Catarina e Paraná também com alto índice de ocorrências."
      ],
      "metadata": {
        "id": "yBB_pVhD4qM6"
      }
    },
    {
      "cell_type": "code",
      "source": [
        "plt.figure(figsize=(15,6))\n",
        "plt.title(\"10 cidades com mais acidentes em 2021\")\n",
        "p = sns.barplot(x=df[\"municipio\"].value_counts()[:10].index, y=df[\"municipio\"].value_counts()[:10].values, palette=\"flare\")\n",
        "p.set_xlabel(\"Cidades\", fontsize = 9)\n",
        "p.set_ylabel(\"Número acidentes\", fontsize = 9)\n",
        "plt.show()"
      ],
      "metadata": {
        "colab": {
          "base_uri": "https://localhost:8080/",
          "height": 563
        },
        "id": "S2krvRaS4qlj",
        "outputId": "80881c77-5cea-4c4f-94ae-bba9bf690a6d"
      },
      "execution_count": 18,
      "outputs": [
        {
          "output_type": "display_data",
          "data": {
            "text/plain": [
              "<Figure size 1500x600 with 1 Axes>"
            ],
            "image/png": "[encoded data removed]"
          },
          "metadata": {}
        }
      ]
    },
    {
      "cell_type": "markdown",
      "source": [
        "A cidade que apresentou mais acidentes no ano de 2021 foi Brasília. \n",
        "\n",
        "\n",
        "*Fazer alguma análise relacionando a cidade e seus estados: Curitiba(PR), São José(SC), Guarulhos(SP), Palhoça(SC), Duque de Caxias(RJ), Serra(ES), Betim(MG), São José dos Pinhais(PR), Recife(PE)"
      ],
      "metadata": {
        "id": "QJ1wQ1yu6iHE"
      }
    },
    {
      "cell_type": "markdown",
      "source": [
        "## <font color='darkorange'>4.2 Quais as causas mais recorrentes de acidentes de trânsito no Brasil?</font>"
      ],
      "metadata": {
        "id": "X8n1eHW9zwha"
      }
    },
    {
      "cell_type": "markdown",
      "source": [
        "## <font color='darkorange'>4.3 Como o estado da pista e as condições metereológicas interferem nos acidentes de trânsito no país?</font>"
      ],
      "metadata": {
        "id": "BGsFGwUqz2_p"
      }
    },
    {
      "cell_type": "markdown",
      "source": [
        "# <font color='darkorange'>5. Conclusão</font>"
      ],
      "metadata": {
        "id": "8eOzD_xwz-hA"
      }
    },
    {
      "cell_type": "markdown",
      "source": [
        "### Resultados encontrados:\n",
        "\n",
        "### Limitações:\n",
        "\n",
        "### Trabalhos futuros: \n",
        "\n",
        "### Possíveis melhorias"
      ],
      "metadata": {
        "id": "QXHNXj3h032Q"
      }
    }
  ]
}