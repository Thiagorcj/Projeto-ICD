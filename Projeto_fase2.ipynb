{
  "nbformat": 4,
  "nbformat_minor": 0,
  "metadata": {
    "colab": {
      "provenance": []
    },
    "kernelspec": {
      "name": "python3",
      "display_name": "Python 3"
    },
    "language_info": {
      "name": "python"
    }
  },
  "cells": [
    {
      "cell_type": "markdown",
      "source": [
        "# Fase 2 do projeto de Introdução à ciência de dados \n",
        "\n",
        "## Alunos: Thiago Rodrigues, Daniele Silva, Gisele Menezes, Maria Eduarda Bandeira\n",
        "\n",
        "\n"
      ],
      "metadata": {
        "id": "h5sLdSL-wOMw"
      }
    },
    {
      "cell_type": "markdown",
      "source": [
        "## Selecionando as variáveis que serão utilizadas"
      ],
      "metadata": {
        "id": "dzpI4FW2qlf4"
      }
    },
    {
      "cell_type": "markdown",
      "source": [
        "Usando as funções head() e describe() para analisar as variáveis:"
      ],
      "metadata": {
        "id": "4ytcurkCjf7Z"
      }
    },
    {
      "cell_type": "code",
      "source": [
        "import pandas as pd\n",
        "df = pd.read_csv('https://raw.githubusercontent.com/Thiagorcj/Projeto-ICD/main/Acidentes_2021.csv', sep=';', engine='python', encoding='latin-1')\n",
        "df.head()"
      ],
      "metadata": {
        "colab": {
          "base_uri": "https://localhost:8080/",
          "height": 332
        },
        "id": "M9PVUZHXocap",
        "outputId": "8234126f-63fd-4a6a-ed9a-8fe7389d595f"
      },
      "execution_count": 28,
      "outputs": [
        {
          "output_type": "execute_result",
          "data": {
            "text/plain": [
              "       id data_inversa   dia_semana   horario  uf     br     km   municipio  \\\n",
              "0  331693   01/01/2021  sexta-feira  00:02:00  SC  101.0  314,9      LAGUNA   \n",
              "1  331694   01/01/2021  sexta-feira  00:15:00  PR  376.0    188    MARIALVA   \n",
              "2  331696   01/01/2021  sexta-feira  00:00:00  SP  116.0  110,6     TAUBATE   \n",
              "3  331699   01/01/2021  sexta-feira  01:20:00  SC  101.0    111  NAVEGANTES   \n",
              "4  331701   01/01/2021  sexta-feira  00:30:00  PE  101.0   45,1    IGARASSU   \n",
              "\n",
              "                             causa_acidente       tipo_acidente  ...  \\\n",
              "0          Ingestão de álcool pelo condutor    Colisão traseira  ...   \n",
              "1                   Velocidade Incompatível  Colisão com objeto  ...   \n",
              "2      Demais falhas mecânicas ou elétricas            Incêndio  ...   \n",
              "3               Manobra de mudança de faixa     Colisão lateral  ...   \n",
              "4  Reação tardia ou ineficiente do condutor    Colisão traseira  ...   \n",
              "\n",
              "  feridos_graves ilesos ignorados feridos veiculos      latitude  \\\n",
              "0              0      2         0       1        2  -28,43029392   \n",
              "1              0      0         0       2        1  -23,46634923   \n",
              "2              0      1         0       0        1  -23,03412614   \n",
              "3              0      1         0       2        2  -26,83955734   \n",
              "4              1      1         0       1        2   -7,86521297   \n",
              "\n",
              "      longitude  regional  delegacia    uop  \n",
              "0  -48,84925073     SR-SC      UOP01  DEL02  \n",
              "1  -51,82808011     SR-PR      UOP01  DEL09  \n",
              "2   -45,5526999     SR-SP      UOP01  DEL06  \n",
              "3  -48,71418074     SR-SC      UOP04  DEL04  \n",
              "4  -34,90715176     SR-PE      UOP02  DEL01  \n",
              "\n",
              "[5 rows x 30 columns]"
            ],
            "text/html": [
              "\n",
              "  <div id=\"df-aa930575-1744-48ad-bdbe-9175913c4f86\">\n",
              "    <div class=\"colab-df-container\">\n",
              "      <div>\n",
              "<style scoped>\n",
              "    .dataframe tbody tr th:only-of-type {\n",
              "        vertical-align: middle;\n",
              "    }\n",
              "\n",
              "    .dataframe tbody tr th {\n",
              "        vertical-align: top;\n",
              "    }\n",
              "\n",
              "    .dataframe thead th {\n",
              "        text-align: right;\n",
              "    }\n",
              "</style>\n",
              "<table border=\"1\" class=\"dataframe\">\n",
              "  <thead>\n",
              "    <tr style=\"text-align: right;\">\n",
              "      <th></th>\n",
              "      <th>id</th>\n",
              "      <th>data_inversa</th>\n",
              "      <th>dia_semana</th>\n",
              "      <th>horario</th>\n",
              "      <th>uf</th>\n",
              "      <th>br</th>\n",
              "      <th>km</th>\n",
              "      <th>municipio</th>\n",
              "      <th>causa_acidente</th>\n",
              "      <th>tipo_acidente</th>\n",
              "      <th>...</th>\n",
              "      <th>feridos_graves</th>\n",
              "      <th>ilesos</th>\n",
              "      <th>ignorados</th>\n",
              "      <th>feridos</th>\n",
              "      <th>veiculos</th>\n",
              "      <th>latitude</th>\n",
              "      <th>longitude</th>\n",
              "      <th>regional</th>\n",
              "      <th>delegacia</th>\n",
              "      <th>uop</th>\n",
              "    </tr>\n",
              "  </thead>\n",
              "  <tbody>\n",
              "    <tr>\n",
              "      <th>0</th>\n",
              "      <td>331693</td>\n",
              "      <td>01/01/2021</td>\n",
              "      <td>sexta-feira</td>\n",
              "      <td>00:02:00</td>\n",
              "      <td>SC</td>\n",
              "      <td>101.0</td>\n",
              "      <td>314,9</td>\n",
              "      <td>LAGUNA</td>\n",
              "      <td>Ingestão de álcool pelo condutor</td>\n",
              "      <td>Colisão traseira</td>\n",
              "      <td>...</td>\n",
              "      <td>0</td>\n",
              "      <td>2</td>\n",
              "      <td>0</td>\n",
              "      <td>1</td>\n",
              "      <td>2</td>\n",
              "      <td>-28,43029392</td>\n",
              "      <td>-48,84925073</td>\n",
              "      <td>SR-SC</td>\n",
              "      <td>UOP01</td>\n",
              "      <td>DEL02</td>\n",
              "    </tr>\n",
              "    <tr>\n",
              "      <th>1</th>\n",
              "      <td>331694</td>\n",
              "      <td>01/01/2021</td>\n",
              "      <td>sexta-feira</td>\n",
              "      <td>00:15:00</td>\n",
              "      <td>PR</td>\n",
              "      <td>376.0</td>\n",
              "      <td>188</td>\n",
              "      <td>MARIALVA</td>\n",
              "      <td>Velocidade Incompatível</td>\n",
              "      <td>Colisão com objeto</td>\n",
              "      <td>...</td>\n",
              "      <td>0</td>\n",
              "      <td>0</td>\n",
              "      <td>0</td>\n",
              "      <td>2</td>\n",
              "      <td>1</td>\n",
              "      <td>-23,46634923</td>\n",
              "      <td>-51,82808011</td>\n",
              "      <td>SR-PR</td>\n",
              "      <td>UOP01</td>\n",
              "      <td>DEL09</td>\n",
              "    </tr>\n",
              "    <tr>\n",
              "      <th>2</th>\n",
              "      <td>331696</td>\n",
              "      <td>01/01/2021</td>\n",
              "      <td>sexta-feira</td>\n",
              "      <td>00:00:00</td>\n",
              "      <td>SP</td>\n",
              "      <td>116.0</td>\n",
              "      <td>110,6</td>\n",
              "      <td>TAUBATE</td>\n",
              "      <td>Demais falhas mecânicas ou elétricas</td>\n",
              "      <td>Incêndio</td>\n",
              "      <td>...</td>\n",
              "      <td>0</td>\n",
              "      <td>1</td>\n",
              "      <td>0</td>\n",
              "      <td>0</td>\n",
              "      <td>1</td>\n",
              "      <td>-23,03412614</td>\n",
              "      <td>-45,5526999</td>\n",
              "      <td>SR-SP</td>\n",
              "      <td>UOP01</td>\n",
              "      <td>DEL06</td>\n",
              "    </tr>\n",
              "    <tr>\n",
              "      <th>3</th>\n",
              "      <td>331699</td>\n",
              "      <td>01/01/2021</td>\n",
              "      <td>sexta-feira</td>\n",
              "      <td>01:20:00</td>\n",
              "      <td>SC</td>\n",
              "      <td>101.0</td>\n",
              "      <td>111</td>\n",
              "      <td>NAVEGANTES</td>\n",
              "      <td>Manobra de mudança de faixa</td>\n",
              "      <td>Colisão lateral</td>\n",
              "      <td>...</td>\n",
              "      <td>0</td>\n",
              "      <td>1</td>\n",
              "      <td>0</td>\n",
              "      <td>2</td>\n",
              "      <td>2</td>\n",
              "      <td>-26,83955734</td>\n",
              "      <td>-48,71418074</td>\n",
              "      <td>SR-SC</td>\n",
              "      <td>UOP04</td>\n",
              "      <td>DEL04</td>\n",
              "    </tr>\n",
              "    <tr>\n",
              "      <th>4</th>\n",
              "      <td>331701</td>\n",
              "      <td>01/01/2021</td>\n",
              "      <td>sexta-feira</td>\n",
              "      <td>00:30:00</td>\n",
              "      <td>PE</td>\n",
              "      <td>101.0</td>\n",
              "      <td>45,1</td>\n",
              "      <td>IGARASSU</td>\n",
              "      <td>Reação tardia ou ineficiente do condutor</td>\n",
              "      <td>Colisão traseira</td>\n",
              "      <td>...</td>\n",
              "      <td>1</td>\n",
              "      <td>1</td>\n",
              "      <td>0</td>\n",
              "      <td>1</td>\n",
              "      <td>2</td>\n",
              "      <td>-7,86521297</td>\n",
              "      <td>-34,90715176</td>\n",
              "      <td>SR-PE</td>\n",
              "      <td>UOP02</td>\n",
              "      <td>DEL01</td>\n",
              "    </tr>\n",
              "  </tbody>\n",
              "</table>\n",
              "<p>5 rows × 30 columns</p>\n",
              "</div>\n",
              "      <button class=\"colab-df-convert\" onclick=\"convertToInteractive('df-aa930575-1744-48ad-bdbe-9175913c4f86')\"\n",
              "              title=\"Convert this dataframe to an interactive table.\"\n",
              "              style=\"display:none;\">\n",
              "        \n",
              "  <svg xmlns=\"http://www.w3.org/2000/svg\" height=\"24px\"viewBox=\"0 0 24 24\"\n",
              "       width=\"24px\">\n",
              "    <path d=\"M0 0h24v24H0V0z\" fill=\"none\"/>\n",
              "    <path d=\"M18.56 5.44l.94 2.06.94-2.06 2.06-.94-2.06-.94-.94-2.06-.94 2.06-2.06.94zm-11 1L8.5 8.5l.94-2.06 2.06-.94-2.06-.94L8.5 2.5l-.94 2.06-2.06.94zm10 10l.94 2.06.94-2.06 2.06-.94-2.06-.94-.94-2.06-.94 2.06-2.06.94z\"/><path d=\"M17.41 7.96l-1.37-1.37c-.4-.4-.92-.59-1.43-.59-.52 0-1.04.2-1.43.59L10.3 9.45l-7.72 7.72c-.78.78-.78 2.05 0 2.83L4 21.41c.39.39.9.59 1.41.59.51 0 1.02-.2 1.41-.59l7.78-7.78 2.81-2.81c.8-.78.8-2.07 0-2.86zM5.41 20L4 18.59l7.72-7.72 1.47 1.35L5.41 20z\"/>\n",
              "  </svg>\n",
              "      </button>\n",
              "      \n",
              "  <style>\n",
              "    .colab-df-container {\n",
              "      display:flex;\n",
              "      flex-wrap:wrap;\n",
              "      gap: 12px;\n",
              "    }\n",
              "\n",
              "    .colab-df-convert {\n",
              "      background-color: #E8F0FE;\n",
              "      border: none;\n",
              "      border-radius: 50%;\n",
              "      cursor: pointer;\n",
              "      display: none;\n",
              "      fill: #1967D2;\n",
              "      height: 32px;\n",
              "      padding: 0 0 0 0;\n",
              "      width: 32px;\n",
              "    }\n",
              "\n",
              "    .colab-df-convert:hover {\n",
              "      background-color: #E2EBFA;\n",
              "      box-shadow: 0px 1px 2px rgba(60, 64, 67, 0.3), 0px 1px 3px 1px rgba(60, 64, 67, 0.15);\n",
              "      fill: #174EA6;\n",
              "    }\n",
              "\n",
              "    [theme=dark] .colab-df-convert {\n",
              "      background-color: #3B4455;\n",
              "      fill: #D2E3FC;\n",
              "    }\n",
              "\n",
              "    [theme=dark] .colab-df-convert:hover {\n",
              "      background-color: #434B5C;\n",
              "      box-shadow: 0px 1px 3px 1px rgba(0, 0, 0, 0.15);\n",
              "      filter: drop-shadow(0px 1px 2px rgba(0, 0, 0, 0.3));\n",
              "      fill: #FFFFFF;\n",
              "    }\n",
              "  </style>\n",
              "\n",
              "      <script>\n",
              "        const buttonEl =\n",
              "          document.querySelector('#df-aa930575-1744-48ad-bdbe-9175913c4f86 button.colab-df-convert');\n",
              "        buttonEl.style.display =\n",
              "          google.colab.kernel.accessAllowed ? 'block' : 'none';\n",
              "\n",
              "        async function convertToInteractive(key) {\n",
              "          const element = document.querySelector('#df-aa930575-1744-48ad-bdbe-9175913c4f86');\n",
              "          const dataTable =\n",
              "            await google.colab.kernel.invokeFunction('convertToInteractive',\n",
              "                                                     [key], {});\n",
              "          if (!dataTable) return;\n",
              "\n",
              "          const docLinkHtml = 'Like what you see? Visit the ' +\n",
              "            '<a target=\"_blank\" href=https://colab.research.google.com/notebooks/data_table.ipynb>data table notebook</a>'\n",
              "            + ' to learn more about interactive tables.';\n",
              "          element.innerHTML = '';\n",
              "          dataTable['output_type'] = 'display_data';\n",
              "          await google.colab.output.renderOutput(dataTable, element);\n",
              "          const docLink = document.createElement('div');\n",
              "          docLink.innerHTML = docLinkHtml;\n",
              "          element.appendChild(docLink);\n",
              "        }\n",
              "      </script>\n",
              "    </div>\n",
              "  </div>\n",
              "  "
            ]
          },
          "metadata": {},
          "execution_count": 28
        }
      ]
    },
    {
      "cell_type": "code",
      "execution_count": 2,
      "metadata": {
        "id": "PHAHaTd2nA4h",
        "colab": {
          "base_uri": "https://localhost:8080/",
          "height": 300
        },
        "outputId": "74f89e3e-802d-44e0-b0f7-1bd63c249c89"
      },
      "outputs": [
        {
          "output_type": "execute_result",
          "data": {
            "text/plain": [
              "                  id            br       pessoas        mortos  feridos_leves  \\\n",
              "count   30901.000000  30817.000000  30901.000000  30901.000000   30901.000000   \n",
              "mean   350106.758131    209.650810      2.295589      0.079933       0.835216   \n",
              "std     10502.957089    130.906088      1.609057      0.327912       0.933395   \n",
              "min    331693.000000     10.000000      1.000000      0.000000       0.000000   \n",
              "25%    341090.000000    101.000000      1.000000      0.000000       0.000000   \n",
              "50%    350200.000000    153.000000      2.000000      0.000000       1.000000   \n",
              "75%    359111.000000    324.000000      3.000000      0.000000       1.000000   \n",
              "max    374253.000000    495.000000     57.000000     19.000000      31.000000   \n",
              "\n",
              "       feridos_graves        ilesos     ignorados       feridos      veiculos  \n",
              "count    30901.000000  30901.000000  30901.000000  30901.000000  30901.000000  \n",
              "mean         0.266755      0.959516      0.154170      1.101971      1.649817  \n",
              "std          0.585591      1.312923      0.420184      1.016079      0.710432  \n",
              "min          0.000000      0.000000      0.000000      0.000000      1.000000  \n",
              "25%          0.000000      0.000000      0.000000      1.000000      1.000000  \n",
              "50%          0.000000      1.000000      0.000000      1.000000      2.000000  \n",
              "75%          0.000000      1.000000      0.000000      1.000000      2.000000  \n",
              "max         23.000000     53.000000      8.000000     33.000000     11.000000  "
            ],
            "text/html": [
              "\n",
              "  <div id=\"df-beac69bc-d777-4067-b9f4-1ead0f475ec9\">\n",
              "    <div class=\"colab-df-container\">\n",
              "      <div>\n",
              "<style scoped>\n",
              "    .dataframe tbody tr th:only-of-type {\n",
              "        vertical-align: middle;\n",
              "    }\n",
              "\n",
              "    .dataframe tbody tr th {\n",
              "        vertical-align: top;\n",
              "    }\n",
              "\n",
              "    .dataframe thead th {\n",
              "        text-align: right;\n",
              "    }\n",
              "</style>\n",
              "<table border=\"1\" class=\"dataframe\">\n",
              "  <thead>\n",
              "    <tr style=\"text-align: right;\">\n",
              "      <th></th>\n",
              "      <th>id</th>\n",
              "      <th>br</th>\n",
              "      <th>pessoas</th>\n",
              "      <th>mortos</th>\n",
              "      <th>feridos_leves</th>\n",
              "      <th>feridos_graves</th>\n",
              "      <th>ilesos</th>\n",
              "      <th>ignorados</th>\n",
              "      <th>feridos</th>\n",
              "      <th>veiculos</th>\n",
              "    </tr>\n",
              "  </thead>\n",
              "  <tbody>\n",
              "    <tr>\n",
              "      <th>count</th>\n",
              "      <td>30901.000000</td>\n",
              "      <td>30817.000000</td>\n",
              "      <td>30901.000000</td>\n",
              "      <td>30901.000000</td>\n",
              "      <td>30901.000000</td>\n",
              "      <td>30901.000000</td>\n",
              "      <td>30901.000000</td>\n",
              "      <td>30901.000000</td>\n",
              "      <td>30901.000000</td>\n",
              "      <td>30901.000000</td>\n",
              "    </tr>\n",
              "    <tr>\n",
              "      <th>mean</th>\n",
              "      <td>350106.758131</td>\n",
              "      <td>209.650810</td>\n",
              "      <td>2.295589</td>\n",
              "      <td>0.079933</td>\n",
              "      <td>0.835216</td>\n",
              "      <td>0.266755</td>\n",
              "      <td>0.959516</td>\n",
              "      <td>0.154170</td>\n",
              "      <td>1.101971</td>\n",
              "      <td>1.649817</td>\n",
              "    </tr>\n",
              "    <tr>\n",
              "      <th>std</th>\n",
              "      <td>10502.957089</td>\n",
              "      <td>130.906088</td>\n",
              "      <td>1.609057</td>\n",
              "      <td>0.327912</td>\n",
              "      <td>0.933395</td>\n",
              "      <td>0.585591</td>\n",
              "      <td>1.312923</td>\n",
              "      <td>0.420184</td>\n",
              "      <td>1.016079</td>\n",
              "      <td>0.710432</td>\n",
              "    </tr>\n",
              "    <tr>\n",
              "      <th>min</th>\n",
              "      <td>331693.000000</td>\n",
              "      <td>10.000000</td>\n",
              "      <td>1.000000</td>\n",
              "      <td>0.000000</td>\n",
              "      <td>0.000000</td>\n",
              "      <td>0.000000</td>\n",
              "      <td>0.000000</td>\n",
              "      <td>0.000000</td>\n",
              "      <td>0.000000</td>\n",
              "      <td>1.000000</td>\n",
              "    </tr>\n",
              "    <tr>\n",
              "      <th>25%</th>\n",
              "      <td>341090.000000</td>\n",
              "      <td>101.000000</td>\n",
              "      <td>1.000000</td>\n",
              "      <td>0.000000</td>\n",
              "      <td>0.000000</td>\n",
              "      <td>0.000000</td>\n",
              "      <td>0.000000</td>\n",
              "      <td>0.000000</td>\n",
              "      <td>1.000000</td>\n",
              "      <td>1.000000</td>\n",
              "    </tr>\n",
              "    <tr>\n",
              "      <th>50%</th>\n",
              "      <td>350200.000000</td>\n",
              "      <td>153.000000</td>\n",
              "      <td>2.000000</td>\n",
              "      <td>0.000000</td>\n",
              "      <td>1.000000</td>\n",
              "      <td>0.000000</td>\n",
              "      <td>1.000000</td>\n",
              "      <td>0.000000</td>\n",
              "      <td>1.000000</td>\n",
              "      <td>2.000000</td>\n",
              "    </tr>\n",
              "    <tr>\n",
              "      <th>75%</th>\n",
              "      <td>359111.000000</td>\n",
              "      <td>324.000000</td>\n",
              "      <td>3.000000</td>\n",
              "      <td>0.000000</td>\n",
              "      <td>1.000000</td>\n",
              "      <td>0.000000</td>\n",
              "      <td>1.000000</td>\n",
              "      <td>0.000000</td>\n",
              "      <td>1.000000</td>\n",
              "      <td>2.000000</td>\n",
              "    </tr>\n",
              "    <tr>\n",
              "      <th>max</th>\n",
              "      <td>374253.000000</td>\n",
              "      <td>495.000000</td>\n",
              "      <td>57.000000</td>\n",
              "      <td>19.000000</td>\n",
              "      <td>31.000000</td>\n",
              "      <td>23.000000</td>\n",
              "      <td>53.000000</td>\n",
              "      <td>8.000000</td>\n",
              "      <td>33.000000</td>\n",
              "      <td>11.000000</td>\n",
              "    </tr>\n",
              "  </tbody>\n",
              "</table>\n",
              "</div>\n",
              "      <button class=\"colab-df-convert\" onclick=\"convertToInteractive('df-beac69bc-d777-4067-b9f4-1ead0f475ec9')\"\n",
              "              title=\"Convert this dataframe to an interactive table.\"\n",
              "              style=\"display:none;\">\n",
              "        \n",
              "  <svg xmlns=\"http://www.w3.org/2000/svg\" height=\"24px\"viewBox=\"0 0 24 24\"\n",
              "       width=\"24px\">\n",
              "    <path d=\"M0 0h24v24H0V0z\" fill=\"none\"/>\n",
              "    <path d=\"M18.56 5.44l.94 2.06.94-2.06 2.06-.94-2.06-.94-.94-2.06-.94 2.06-2.06.94zm-11 1L8.5 8.5l.94-2.06 2.06-.94-2.06-.94L8.5 2.5l-.94 2.06-2.06.94zm10 10l.94 2.06.94-2.06 2.06-.94-2.06-.94-.94-2.06-.94 2.06-2.06.94z\"/><path d=\"M17.41 7.96l-1.37-1.37c-.4-.4-.92-.59-1.43-.59-.52 0-1.04.2-1.43.59L10.3 9.45l-7.72 7.72c-.78.78-.78 2.05 0 2.83L4 21.41c.39.39.9.59 1.41.59.51 0 1.02-.2 1.41-.59l7.78-7.78 2.81-2.81c.8-.78.8-2.07 0-2.86zM5.41 20L4 18.59l7.72-7.72 1.47 1.35L5.41 20z\"/>\n",
              "  </svg>\n",
              "      </button>\n",
              "      \n",
              "  <style>\n",
              "    .colab-df-container {\n",
              "      display:flex;\n",
              "      flex-wrap:wrap;\n",
              "      gap: 12px;\n",
              "    }\n",
              "\n",
              "    .colab-df-convert {\n",
              "      background-color: #E8F0FE;\n",
              "      border: none;\n",
              "      border-radius: 50%;\n",
              "      cursor: pointer;\n",
              "      display: none;\n",
              "      fill: #1967D2;\n",
              "      height: 32px;\n",
              "      padding: 0 0 0 0;\n",
              "      width: 32px;\n",
              "    }\n",
              "\n",
              "    .colab-df-convert:hover {\n",
              "      background-color: #E2EBFA;\n",
              "      box-shadow: 0px 1px 2px rgba(60, 64, 67, 0.3), 0px 1px 3px 1px rgba(60, 64, 67, 0.15);\n",
              "      fill: #174EA6;\n",
              "    }\n",
              "\n",
              "    [theme=dark] .colab-df-convert {\n",
              "      background-color: #3B4455;\n",
              "      fill: #D2E3FC;\n",
              "    }\n",
              "\n",
              "    [theme=dark] .colab-df-convert:hover {\n",
              "      background-color: #434B5C;\n",
              "      box-shadow: 0px 1px 3px 1px rgba(0, 0, 0, 0.15);\n",
              "      filter: drop-shadow(0px 1px 2px rgba(0, 0, 0, 0.3));\n",
              "      fill: #FFFFFF;\n",
              "    }\n",
              "  </style>\n",
              "\n",
              "      <script>\n",
              "        const buttonEl =\n",
              "          document.querySelector('#df-beac69bc-d777-4067-b9f4-1ead0f475ec9 button.colab-df-convert');\n",
              "        buttonEl.style.display =\n",
              "          google.colab.kernel.accessAllowed ? 'block' : 'none';\n",
              "\n",
              "        async function convertToInteractive(key) {\n",
              "          const element = document.querySelector('#df-beac69bc-d777-4067-b9f4-1ead0f475ec9');\n",
              "          const dataTable =\n",
              "            await google.colab.kernel.invokeFunction('convertToInteractive',\n",
              "                                                     [key], {});\n",
              "          if (!dataTable) return;\n",
              "\n",
              "          const docLinkHtml = 'Like what you see? Visit the ' +\n",
              "            '<a target=\"_blank\" href=https://colab.research.google.com/notebooks/data_table.ipynb>data table notebook</a>'\n",
              "            + ' to learn more about interactive tables.';\n",
              "          element.innerHTML = '';\n",
              "          dataTable['output_type'] = 'display_data';\n",
              "          await google.colab.output.renderOutput(dataTable, element);\n",
              "          const docLink = document.createElement('div');\n",
              "          docLink.innerHTML = docLinkHtml;\n",
              "          element.appendChild(docLink);\n",
              "        }\n",
              "      </script>\n",
              "    </div>\n",
              "  </div>\n",
              "  "
            ]
          },
          "metadata": {},
          "execution_count": 2
        }
      ],
      "source": [
        "df.describe()"
      ]
    },
    {
      "cell_type": "markdown",
      "source": [
        "Percebe-se que os dados que mais fazem sentido para serem observados são: pessoas, mortos, feridos(leves e graves), ilesos, feridos e veículos."
      ],
      "metadata": {
        "id": "6aVvRv2Rjkx4"
      }
    },
    {
      "cell_type": "markdown",
      "source": [
        "## Analisando medidas de dispersão\n",
        "A função describe já indica a média, mediana, máximos, mínimos e etc. Para analisar separadamente, desenvolvemos o seguinte código:"
      ],
      "metadata": {
        "id": "GtCQJgk5chcX"
      }
    },
    {
      "cell_type": "code",
      "source": [
        "#Criou-se a função modas para que os resultados fossem padronizados\n",
        "def modas():\n",
        "  lista2 = ['pessoas','mortos','feridos_leves','feridos_graves','ilesos','feridos','veiculos']\n",
        "  for i in lista2:\n",
        "    s = df[i].mode()\n",
        "    espaços = ' '*(18-len(i))\n",
        "    print(f'{i}:{espaços}{s.to_string(index=False)}')\n",
        "\n",
        "#Médias\n",
        "print(\"~\" * 22)\n",
        "print(\"\\n\",\"Médias\".center(20,' '),\"\\n\") \n",
        "display(df[['pessoas','mortos','feridos_leves','feridos_graves','ilesos','feridos','veiculos']].mean().round(1))\n",
        "print(\"~\" * 22)\n",
        "\n",
        "#Medianas\n",
        "print(\"\\n\",\"Medianas\".center(20,' '),\"\\n\") \n",
        "display(df[['pessoas','mortos','feridos_leves','feridos_graves','ilesos','feridos','veiculos']].median())\n",
        "print(\"~\" * 22)\n",
        "\n",
        "#Variâncias\n",
        "print(\"\\n\",\"Variâncias\".center(20,' '),\"\\n\") \n",
        "display(df[['pessoas','mortos','feridos_leves','feridos_graves','ilesos','feridos','veiculos']].var().round(1))\n",
        "print(\"~\" * 22)\n",
        "\n",
        "#Modas\n",
        "print(\"\\n\",\"Modas\".center(20,' '),\"\\n\") \n",
        "modas()\n",
        "print(\"~\" * 22)\n",
        "\n",
        "#Desvio padrão\n",
        "print(\"\\n\",\"Desvio padrão\".center(20,' '),\"\\n\")\n",
        "display(df[['pessoas','mortos','feridos_leves','feridos_graves','ilesos','feridos','veiculos']].std().round(1))\n",
        "print(\"~\" * 22)"
      ],
      "metadata": {
        "id": "ihfbGRzllpw0",
        "colab": {
          "base_uri": "https://localhost:8080/",
          "height": 1000
        },
        "outputId": "ce06cdd4-5233-44be-b591-4fba9f4d67c7"
      },
      "execution_count": 31,
      "outputs": [
        {
          "output_type": "stream",
          "name": "stdout",
          "text": [
            "~~~~~~~~~~~~~~~~~~~~~~\n",
            "\n",
            "        Médias        \n",
            "\n"
          ]
        },
        {
          "output_type": "display_data",
          "data": {
            "text/plain": [
              "pessoas           2.3\n",
              "mortos            0.1\n",
              "feridos_leves     0.8\n",
              "feridos_graves    0.3\n",
              "ilesos            1.0\n",
              "feridos           1.1\n",
              "veiculos          1.6\n",
              "dtype: float64"
            ]
          },
          "metadata": {}
        },
        {
          "output_type": "stream",
          "name": "stdout",
          "text": [
            "~~~~~~~~~~~~~~~~~~~~~~\n",
            "\n",
            "       Medianas       \n",
            "\n"
          ]
        },
        {
          "output_type": "display_data",
          "data": {
            "text/plain": [
              "pessoas           2.0\n",
              "mortos            0.0\n",
              "feridos_leves     1.0\n",
              "feridos_graves    0.0\n",
              "ilesos            1.0\n",
              "feridos           1.0\n",
              "veiculos          2.0\n",
              "dtype: float64"
            ]
          },
          "metadata": {}
        },
        {
          "output_type": "stream",
          "name": "stdout",
          "text": [
            "~~~~~~~~~~~~~~~~~~~~~~\n",
            "\n",
            "      Variâncias      \n",
            "\n"
          ]
        },
        {
          "output_type": "display_data",
          "data": {
            "text/plain": [
              "pessoas           2.6\n",
              "mortos            0.1\n",
              "feridos_leves     0.9\n",
              "feridos_graves    0.3\n",
              "ilesos            1.7\n",
              "feridos           1.0\n",
              "veiculos          0.5\n",
              "dtype: float64"
            ]
          },
          "metadata": {}
        },
        {
          "output_type": "stream",
          "name": "stdout",
          "text": [
            "~~~~~~~~~~~~~~~~~~~~~~\n",
            "\n",
            "        Modas         \n",
            "\n",
            "pessoas:           2\n",
            "mortos:            0\n",
            "feridos_leves:     1\n",
            "feridos_graves:    0\n",
            "ilesos:            1\n",
            "feridos:           1\n",
            "veiculos:          2\n",
            "~~~~~~~~~~~~~~~~~~~~~~\n",
            "\n",
            "    Desvio padrão     \n",
            "\n"
          ]
        },
        {
          "output_type": "display_data",
          "data": {
            "text/plain": [
              "pessoas           1.6\n",
              "mortos            0.3\n",
              "feridos_leves     0.9\n",
              "feridos_graves    0.6\n",
              "ilesos            1.3\n",
              "feridos           1.0\n",
              "veiculos          0.7\n",
              "dtype: float64"
            ]
          },
          "metadata": {}
        },
        {
          "output_type": "stream",
          "name": "stdout",
          "text": [
            "~~~~~~~~~~~~~~~~~~~~~~\n"
          ]
        }
      ]
    },
    {
      "cell_type": "markdown",
      "source": [
        "## Criando boxplots com variáveis disponíveis\n",
        "Dessa forma, analisamos as váriaveis disponíveis por meio de Boxplots:"
      ],
      "metadata": {
        "id": "TSLT6-sU14Ei"
      }
    },
    {
      "cell_type": "code",
      "source": [
        "#Utilizando as bibliotecas matplotlib e seaborn\n",
        "import matplotlib.pyplot as plt\n",
        "import seaborn as sns\n",
        "\n",
        "sns.set_theme(style='ticks')\n",
        "\n",
        "#Todos os boxplots juntos\n",
        "plt.figure(figsize=(7,4))\n",
        "plt.title(\"Boxplots juntos\")\n",
        "sns.boxplot(data=df[[\"veiculos\", \"mortos\",\"pessoas\",\"feridos_leves\",\"feridos_graves\"]], orient=\"h\")\n",
        "plt.show()\n",
        "\n",
        "#Veiculos envolvidos\n",
        "plt.figure(figsize=(7,4))\n",
        "sns.boxplot(data=df, x='veiculos')\n",
        "plt.show()\n",
        "\n",
        "#Número de mortes\n",
        "plt.figure(figsize=(7,4))\n",
        "sns.boxplot(data=df, x='mortos',color='grey')\n",
        "plt.show()\n",
        "\n",
        "#Pessoas envolvidas\n",
        "plt.figure(figsize=(7,4))\n",
        "sns.boxplot(data=df, x='pessoas',color='green')\n",
        "plt.show()\n",
        "\n",
        "#Levemente feridos\n",
        "plt.figure(figsize=(7,4))\n",
        "sns.boxplot(data=df, x='feridos_leves',color='orange')\n",
        "plt.show()\n",
        "\n",
        "#Gravemente feridos\n",
        "plt.figure(figsize=(7,4))\n",
        "sns.boxplot(data=df, x='feridos_graves',color='red')\n",
        "plt.show()\n",
        "\n",
        "#Feridos\n",
        "plt.figure(figsize=(7,4))\n",
        "sns.boxplot(data=df, x='feridos',color='red')\n",
        "plt.show()"
      ],
      "metadata": {
        "id": "VpFYcUhpBrg5",
        "colab": {
          "base_uri": "https://localhost:8080/",
          "height": 1000
        },
        "outputId": "d43f8830-3c14-41f1-9169-ef7e3193b88c"
      },
      "execution_count": 27,
      "outputs": [
        {
          "output_type": "display_data",
          "data": {
            "text/plain": [
              "<Figure size 700x400 with 1 Axes>"
            ],
            "image/png": "[encoded data removed]"
          },
          "metadata": {}
        },
        {
          "output_type": "display_data",
          "data": {
            "text/plain": [
              "<Figure size 700x400 with 1 Axes>"
            ],
            "image/png": "[encoded data removed]"
          },
          "metadata": {}
        },
        {
          "output_type": "display_data",
          "data": {
            "text/plain": [
              "<Figure size 700x400 with 1 Axes>"
            ],
            "image/png": "[encoded data removed]"
          },
          "metadata": {}
        },
        {
          "output_type": "display_data",
          "data": {
            "text/plain": [
              "<Figure size 700x400 with 1 Axes>"
            ],
            "image/png": "[encoded data removed]"
          },
          "metadata": {}
        },
        {
          "output_type": "display_data",
          "data": {
            "text/plain": [
              "<Figure size 700x400 with 1 Axes>"
            ],
            "image/png": "[encoded data removed]"
          },
          "metadata": {}
        },
        {
          "output_type": "display_data",
          "data": {
            "text/plain": [
              "<Figure size 700x400 with 1 Axes>"
            ],
            "image/png": "[encoded data removed]"
          },
          "metadata": {}
        },
        {
          "output_type": "display_data",
          "data": {
            "text/plain": [
              "<Figure size 700x400 with 1 Axes>"
            ],
            "image/png": "[encoded data removed]"
          },
          "metadata": {}
        }
      ]
    },
    {
      "cell_type": "markdown",
      "source": [
        "Pode-se concluir que a maior parte dos acidentes não envolvem mortes ou feridos e que a maior parte dos acidentes envolvem apenas 1 ou 2 carros. Além disso, chama atenção casos em que ocorreu mais de 50 feridos, mais de 17 mortes e mais de 10 carros envolvidos."
      ],
      "metadata": {
        "id": "F0As71uJeQ9J"
      }
    }
  ]
}